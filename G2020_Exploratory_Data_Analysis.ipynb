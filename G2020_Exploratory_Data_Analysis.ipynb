{
  "nbformat": 4,
  "nbformat_minor": 0,
  "metadata": {
    "colab": {
      "provenance": [],
      "collapsed_sections": [
        "o_Lsi9Y5P7Bp",
        "RTbDThx_cA0k",
        "Ufgcp9FhDsl_",
        "uATicQVbXq0V",
        "SaNcsmsScM6F",
        "6pV80di9OYTt",
        "XQz4sN5omouc",
        "E3AelVmPOyo2",
        "DTPgUwa0dMPs",
        "akx3kW6ndQx-",
        "mdPFYBqsdQqb",
        "L1Ew2Oq0dQfa",
        "CJ_ofSirhClH"
      ],
      "include_colab_link": true
    },
    "kernelspec": {
      "name": "python3",
      "display_name": "Python 3"
    },
    "language_info": {
      "name": "python"
    }
  },
  "cells": [
    {
      "cell_type": "markdown",
      "metadata": {
        "id": "view-in-github",
        "colab_type": "text"
      },
      "source": [
        "<a href=\"https://colab.research.google.com/github/jrchac/Thesis-Project-Feele/blob/main/G2020_Exploratory_Data_Analysis.ipynb\" target=\"_parent\"><img src=\"https://colab.research.google.com/assets/colab-badge.svg\" alt=\"Open In Colab\"/></a>"
      ]
    },
    {
      "cell_type": "markdown",
      "source": [
        "# Garage 2020 Business Case"
      ],
      "metadata": {
        "id": "q-ACz1IEaJUJ"
      }
    },
    {
      "cell_type": "markdown",
      "source": [],
      "metadata": {
        "id": "sEyXBPMqPIsm"
      }
    },
    {
      "cell_type": "code",
      "source": [
        "%run G2020_Cleaning_Data.ipynb   # this is were our functions are stored\n",
        "\n",
        "data = cleaning() #it takes long to execute (4min30s)"
      ],
      "metadata": {
        "id": "YAg4lWroPJ-G"
      },
      "execution_count": null,
      "outputs": []
    },
    {
      "cell_type": "markdown",
      "source": [
        "## Problem Description"
      ],
      "metadata": {
        "id": "o_Lsi9Y5P7Bp"
      }
    },
    {
      "cell_type": "markdown",
      "source": [
        "**Problem description:**\n",
        "Young people are showing increasing stress-related complaints. Due to the unattractiveness of traditional mental health care, there is a real gap in accessible and personalized mental health support for this group of people. Through smart-cueing, Feelee is looking to offer adaptive advice and interventions. As of today, 4000 young people have downloaded and used the app.\n",
        "\n",
        "**Goals:**\n",
        "- Find patterns in the users of FeeLee (EDA)\n",
        "- Develop a model that can provide user profiles (ML / clustering analysis)\n"
      ],
      "metadata": {
        "id": "THhCzVpxaxk_"
      }
    },
    {
      "cell_type": "markdown",
      "source": [
        "**Description of Dataset**:\n",
        "1. question_1: How are you feeling? (Good, Okay, Not Okay)\n",
        "2. question_2: How are you feeling? (Further specification of Good, okay and not okay)\n",
        "3. question_3: What makes you feel X? (X = the completed answer to question 2)\n",
        "4. question_4: What are you doing?\n",
        "5. question_5: And who are you with?\n",
        "\n",
        "6. X00.01: Indicates the number of steps taken between 00.00 and 01.00\n",
        "\n",
        "7. X01.02 indicates the number of steps taken between 01:00 and 02:00\n",
        "and so on"
      ],
      "metadata": {
        "id": "jubeLkZfxoaD"
      }
    },
    {
      "cell_type": "markdown",
      "source": [
        "## Data Exploration"
      ],
      "metadata": {
        "id": "RTbDThx_cA0k"
      }
    },
    {
      "cell_type": "code",
      "execution_count": null,
      "metadata": {
        "id": "3mx5a-Ltuqir"
      },
      "outputs": [],
      "source": [
        "import pandas as pd\n",
        "import numpy as np\n",
        "import matplotlib.pyplot as plt\n",
        "import seaborn as sns"
      ]
    },
    {
      "cell_type": "code",
      "source": [
        "import warnings\n",
        "warnings.filterwarnings('ignore')"
      ],
      "metadata": {
        "id": "4hdFHE2HJrHF"
      },
      "execution_count": null,
      "outputs": []
    },
    {
      "cell_type": "code",
      "source": [
        "file = 'Garage2020_dataset.xlsx'\n",
        "\n",
        "df = pd.read_excel(file)\n",
        "df.head()"
      ],
      "metadata": {
        "id": "l4G19U8TuxSf",
        "colab": {
          "base_uri": "https://localhost:8080/",
          "height": 429
        },
        "outputId": "a7253385-1243-49d6-8253-a646e23c09ec"
      },
      "execution_count": null,
      "outputs": [
        {
          "output_type": "execute_result",
          "data": {
            "text/plain": [
              "   user_id gender  birthday   os       Date      Time            DateTime  \\\n",
              "0     2527    she    1995.0  ios 2022-04-12  14:40:20 2022-04-12 14:40:20   \n",
              "1     2527    she    1995.0  ios 2022-04-13  14:56:58 2022-04-13 14:56:58   \n",
              "2     2527    she    1995.0  ios 2022-04-13  14:36:44 2022-04-13 14:36:44   \n",
              "3     2527    she    1995.0  ios 2022-04-14  08:00:41 2022-04-14 08:00:41   \n",
              "4     2527    she    1995.0  ios 2022-04-20  12:06:25 2022-04-20 12:06:25   \n",
              "\n",
              "  question_1  question_2 question_3  ... X14.15 X15.16  X16.17  X17.18  \\\n",
              "0   Niet oke  Ontevreden       Ziek  ...    NaN    NaN   142.0    62.0   \n",
              "1        Oke     Verrast        NaN  ...    NaN   94.0     NaN  2533.0   \n",
              "2        Oke     Verrast  Oke nacht  ...    NaN   94.0     NaN  2533.0   \n",
              "3       Goed  Vreugdevol        NaN  ...  165.0  107.0    70.0   152.0   \n",
              "4   Niet oke     Nerveus     Stress  ...    NaN   27.0   153.0  2484.0   \n",
              "\n",
              "   X18.19  X19.20  X20.21  X21.22  X22.23  X23.00  \n",
              "0  1108.0    21.0     NaN     NaN     NaN     NaN  \n",
              "1    16.0  1016.0     NaN     NaN     NaN     NaN  \n",
              "2    16.0  1016.0     NaN     NaN     NaN     NaN  \n",
              "3   555.0    60.0   576.0     NaN     NaN   692.0  \n",
              "4     NaN  1043.0     NaN     NaN     NaN     NaN  \n",
              "\n",
              "[5 rows x 36 columns]"
            ],
            "text/html": [
              "\n",
              "  <div id=\"df-adf9de94-4044-4fb8-9f5e-5dfa64e81be4\" class=\"colab-df-container\">\n",
              "    <div>\n",
              "<style scoped>\n",
              "    .dataframe tbody tr th:only-of-type {\n",
              "        vertical-align: middle;\n",
              "    }\n",
              "\n",
              "    .dataframe tbody tr th {\n",
              "        vertical-align: top;\n",
              "    }\n",
              "\n",
              "    .dataframe thead th {\n",
              "        text-align: right;\n",
              "    }\n",
              "</style>\n",
              "<table border=\"1\" class=\"dataframe\">\n",
              "  <thead>\n",
              "    <tr style=\"text-align: right;\">\n",
              "      <th></th>\n",
              "      <th>user_id</th>\n",
              "      <th>gender</th>\n",
              "      <th>birthday</th>\n",
              "      <th>os</th>\n",
              "      <th>Date</th>\n",
              "      <th>Time</th>\n",
              "      <th>DateTime</th>\n",
              "      <th>question_1</th>\n",
              "      <th>question_2</th>\n",
              "      <th>question_3</th>\n",
              "      <th>...</th>\n",
              "      <th>X14.15</th>\n",
              "      <th>X15.16</th>\n",
              "      <th>X16.17</th>\n",
              "      <th>X17.18</th>\n",
              "      <th>X18.19</th>\n",
              "      <th>X19.20</th>\n",
              "      <th>X20.21</th>\n",
              "      <th>X21.22</th>\n",
              "      <th>X22.23</th>\n",
              "      <th>X23.00</th>\n",
              "    </tr>\n",
              "  </thead>\n",
              "  <tbody>\n",
              "    <tr>\n",
              "      <th>0</th>\n",
              "      <td>2527</td>\n",
              "      <td>she</td>\n",
              "      <td>1995.0</td>\n",
              "      <td>ios</td>\n",
              "      <td>2022-04-12</td>\n",
              "      <td>14:40:20</td>\n",
              "      <td>2022-04-12 14:40:20</td>\n",
              "      <td>Niet oke</td>\n",
              "      <td>Ontevreden</td>\n",
              "      <td>Ziek</td>\n",
              "      <td>...</td>\n",
              "      <td>NaN</td>\n",
              "      <td>NaN</td>\n",
              "      <td>142.0</td>\n",
              "      <td>62.0</td>\n",
              "      <td>1108.0</td>\n",
              "      <td>21.0</td>\n",
              "      <td>NaN</td>\n",
              "      <td>NaN</td>\n",
              "      <td>NaN</td>\n",
              "      <td>NaN</td>\n",
              "    </tr>\n",
              "    <tr>\n",
              "      <th>1</th>\n",
              "      <td>2527</td>\n",
              "      <td>she</td>\n",
              "      <td>1995.0</td>\n",
              "      <td>ios</td>\n",
              "      <td>2022-04-13</td>\n",
              "      <td>14:56:58</td>\n",
              "      <td>2022-04-13 14:56:58</td>\n",
              "      <td>Oke</td>\n",
              "      <td>Verrast</td>\n",
              "      <td>NaN</td>\n",
              "      <td>...</td>\n",
              "      <td>NaN</td>\n",
              "      <td>94.0</td>\n",
              "      <td>NaN</td>\n",
              "      <td>2533.0</td>\n",
              "      <td>16.0</td>\n",
              "      <td>1016.0</td>\n",
              "      <td>NaN</td>\n",
              "      <td>NaN</td>\n",
              "      <td>NaN</td>\n",
              "      <td>NaN</td>\n",
              "    </tr>\n",
              "    <tr>\n",
              "      <th>2</th>\n",
              "      <td>2527</td>\n",
              "      <td>she</td>\n",
              "      <td>1995.0</td>\n",
              "      <td>ios</td>\n",
              "      <td>2022-04-13</td>\n",
              "      <td>14:36:44</td>\n",
              "      <td>2022-04-13 14:36:44</td>\n",
              "      <td>Oke</td>\n",
              "      <td>Verrast</td>\n",
              "      <td>Oke nacht</td>\n",
              "      <td>...</td>\n",
              "      <td>NaN</td>\n",
              "      <td>94.0</td>\n",
              "      <td>NaN</td>\n",
              "      <td>2533.0</td>\n",
              "      <td>16.0</td>\n",
              "      <td>1016.0</td>\n",
              "      <td>NaN</td>\n",
              "      <td>NaN</td>\n",
              "      <td>NaN</td>\n",
              "      <td>NaN</td>\n",
              "    </tr>\n",
              "    <tr>\n",
              "      <th>3</th>\n",
              "      <td>2527</td>\n",
              "      <td>she</td>\n",
              "      <td>1995.0</td>\n",
              "      <td>ios</td>\n",
              "      <td>2022-04-14</td>\n",
              "      <td>08:00:41</td>\n",
              "      <td>2022-04-14 08:00:41</td>\n",
              "      <td>Goed</td>\n",
              "      <td>Vreugdevol</td>\n",
              "      <td>NaN</td>\n",
              "      <td>...</td>\n",
              "      <td>165.0</td>\n",
              "      <td>107.0</td>\n",
              "      <td>70.0</td>\n",
              "      <td>152.0</td>\n",
              "      <td>555.0</td>\n",
              "      <td>60.0</td>\n",
              "      <td>576.0</td>\n",
              "      <td>NaN</td>\n",
              "      <td>NaN</td>\n",
              "      <td>692.0</td>\n",
              "    </tr>\n",
              "    <tr>\n",
              "      <th>4</th>\n",
              "      <td>2527</td>\n",
              "      <td>she</td>\n",
              "      <td>1995.0</td>\n",
              "      <td>ios</td>\n",
              "      <td>2022-04-20</td>\n",
              "      <td>12:06:25</td>\n",
              "      <td>2022-04-20 12:06:25</td>\n",
              "      <td>Niet oke</td>\n",
              "      <td>Nerveus</td>\n",
              "      <td>Stress</td>\n",
              "      <td>...</td>\n",
              "      <td>NaN</td>\n",
              "      <td>27.0</td>\n",
              "      <td>153.0</td>\n",
              "      <td>2484.0</td>\n",
              "      <td>NaN</td>\n",
              "      <td>1043.0</td>\n",
              "      <td>NaN</td>\n",
              "      <td>NaN</td>\n",
              "      <td>NaN</td>\n",
              "      <td>NaN</td>\n",
              "    </tr>\n",
              "  </tbody>\n",
              "</table>\n",
              "<p>5 rows × 36 columns</p>\n",
              "</div>\n",
              "    <div class=\"colab-df-buttons\">\n",
              "\n",
              "  <div class=\"colab-df-container\">\n",
              "    <button class=\"colab-df-convert\" onclick=\"convertToInteractive('df-adf9de94-4044-4fb8-9f5e-5dfa64e81be4')\"\n",
              "            title=\"Convert this dataframe to an interactive table.\"\n",
              "            style=\"display:none;\">\n",
              "\n",
              "  <svg xmlns=\"http://www.w3.org/2000/svg\" height=\"24px\" viewBox=\"0 -960 960 960\">\n",
              "    <path d=\"M120-120v-720h720v720H120Zm60-500h600v-160H180v160Zm220 220h160v-160H400v160Zm0 220h160v-160H400v160ZM180-400h160v-160H180v160Zm440 0h160v-160H620v160ZM180-180h160v-160H180v160Zm440 0h160v-160H620v160Z\"/>\n",
              "  </svg>\n",
              "    </button>\n",
              "\n",
              "  <style>\n",
              "    .colab-df-container {\n",
              "      display:flex;\n",
              "      gap: 12px;\n",
              "    }\n",
              "\n",
              "    .colab-df-convert {\n",
              "      background-color: #E8F0FE;\n",
              "      border: none;\n",
              "      border-radius: 50%;\n",
              "      cursor: pointer;\n",
              "      display: none;\n",
              "      fill: #1967D2;\n",
              "      height: 32px;\n",
              "      padding: 0 0 0 0;\n",
              "      width: 32px;\n",
              "    }\n",
              "\n",
              "    .colab-df-convert:hover {\n",
              "      background-color: #E2EBFA;\n",
              "      box-shadow: 0px 1px 2px rgba(60, 64, 67, 0.3), 0px 1px 3px 1px rgba(60, 64, 67, 0.15);\n",
              "      fill: #174EA6;\n",
              "    }\n",
              "\n",
              "    .colab-df-buttons div {\n",
              "      margin-bottom: 4px;\n",
              "    }\n",
              "\n",
              "    [theme=dark] .colab-df-convert {\n",
              "      background-color: #3B4455;\n",
              "      fill: #D2E3FC;\n",
              "    }\n",
              "\n",
              "    [theme=dark] .colab-df-convert:hover {\n",
              "      background-color: #434B5C;\n",
              "      box-shadow: 0px 1px 3px 1px rgba(0, 0, 0, 0.15);\n",
              "      filter: drop-shadow(0px 1px 2px rgba(0, 0, 0, 0.3));\n",
              "      fill: #FFFFFF;\n",
              "    }\n",
              "  </style>\n",
              "\n",
              "    <script>\n",
              "      const buttonEl =\n",
              "        document.querySelector('#df-adf9de94-4044-4fb8-9f5e-5dfa64e81be4 button.colab-df-convert');\n",
              "      buttonEl.style.display =\n",
              "        google.colab.kernel.accessAllowed ? 'block' : 'none';\n",
              "\n",
              "      async function convertToInteractive(key) {\n",
              "        const element = document.querySelector('#df-adf9de94-4044-4fb8-9f5e-5dfa64e81be4');\n",
              "        const dataTable =\n",
              "          await google.colab.kernel.invokeFunction('convertToInteractive',\n",
              "                                                    [key], {});\n",
              "        if (!dataTable) return;\n",
              "\n",
              "        const docLinkHtml = 'Like what you see? Visit the ' +\n",
              "          '<a target=\"_blank\" href=https://colab.research.google.com/notebooks/data_table.ipynb>data table notebook</a>'\n",
              "          + ' to learn more about interactive tables.';\n",
              "        element.innerHTML = '';\n",
              "        dataTable['output_type'] = 'display_data';\n",
              "        await google.colab.output.renderOutput(dataTable, element);\n",
              "        const docLink = document.createElement('div');\n",
              "        docLink.innerHTML = docLinkHtml;\n",
              "        element.appendChild(docLink);\n",
              "      }\n",
              "    </script>\n",
              "  </div>\n",
              "\n",
              "\n",
              "<div id=\"df-bf92e56f-a8f7-4f0e-9531-313c90977127\">\n",
              "  <button class=\"colab-df-quickchart\" onclick=\"quickchart('df-bf92e56f-a8f7-4f0e-9531-313c90977127')\"\n",
              "            title=\"Suggest charts\"\n",
              "            style=\"display:none;\">\n",
              "\n",
              "<svg xmlns=\"http://www.w3.org/2000/svg\" height=\"24px\"viewBox=\"0 0 24 24\"\n",
              "     width=\"24px\">\n",
              "    <g>\n",
              "        <path d=\"M19 3H5c-1.1 0-2 .9-2 2v14c0 1.1.9 2 2 2h14c1.1 0 2-.9 2-2V5c0-1.1-.9-2-2-2zM9 17H7v-7h2v7zm4 0h-2V7h2v10zm4 0h-2v-4h2v4z\"/>\n",
              "    </g>\n",
              "</svg>\n",
              "  </button>\n",
              "\n",
              "<style>\n",
              "  .colab-df-quickchart {\n",
              "      --bg-color: #E8F0FE;\n",
              "      --fill-color: #1967D2;\n",
              "      --hover-bg-color: #E2EBFA;\n",
              "      --hover-fill-color: #174EA6;\n",
              "      --disabled-fill-color: #AAA;\n",
              "      --disabled-bg-color: #DDD;\n",
              "  }\n",
              "\n",
              "  [theme=dark] .colab-df-quickchart {\n",
              "      --bg-color: #3B4455;\n",
              "      --fill-color: #D2E3FC;\n",
              "      --hover-bg-color: #434B5C;\n",
              "      --hover-fill-color: #FFFFFF;\n",
              "      --disabled-bg-color: #3B4455;\n",
              "      --disabled-fill-color: #666;\n",
              "  }\n",
              "\n",
              "  .colab-df-quickchart {\n",
              "    background-color: var(--bg-color);\n",
              "    border: none;\n",
              "    border-radius: 50%;\n",
              "    cursor: pointer;\n",
              "    display: none;\n",
              "    fill: var(--fill-color);\n",
              "    height: 32px;\n",
              "    padding: 0;\n",
              "    width: 32px;\n",
              "  }\n",
              "\n",
              "  .colab-df-quickchart:hover {\n",
              "    background-color: var(--hover-bg-color);\n",
              "    box-shadow: 0 1px 2px rgba(60, 64, 67, 0.3), 0 1px 3px 1px rgba(60, 64, 67, 0.15);\n",
              "    fill: var(--button-hover-fill-color);\n",
              "  }\n",
              "\n",
              "  .colab-df-quickchart-complete:disabled,\n",
              "  .colab-df-quickchart-complete:disabled:hover {\n",
              "    background-color: var(--disabled-bg-color);\n",
              "    fill: var(--disabled-fill-color);\n",
              "    box-shadow: none;\n",
              "  }\n",
              "\n",
              "  .colab-df-spinner {\n",
              "    border: 2px solid var(--fill-color);\n",
              "    border-color: transparent;\n",
              "    border-bottom-color: var(--fill-color);\n",
              "    animation:\n",
              "      spin 1s steps(1) infinite;\n",
              "  }\n",
              "\n",
              "  @keyframes spin {\n",
              "    0% {\n",
              "      border-color: transparent;\n",
              "      border-bottom-color: var(--fill-color);\n",
              "      border-left-color: var(--fill-color);\n",
              "    }\n",
              "    20% {\n",
              "      border-color: transparent;\n",
              "      border-left-color: var(--fill-color);\n",
              "      border-top-color: var(--fill-color);\n",
              "    }\n",
              "    30% {\n",
              "      border-color: transparent;\n",
              "      border-left-color: var(--fill-color);\n",
              "      border-top-color: var(--fill-color);\n",
              "      border-right-color: var(--fill-color);\n",
              "    }\n",
              "    40% {\n",
              "      border-color: transparent;\n",
              "      border-right-color: var(--fill-color);\n",
              "      border-top-color: var(--fill-color);\n",
              "    }\n",
              "    60% {\n",
              "      border-color: transparent;\n",
              "      border-right-color: var(--fill-color);\n",
              "    }\n",
              "    80% {\n",
              "      border-color: transparent;\n",
              "      border-right-color: var(--fill-color);\n",
              "      border-bottom-color: var(--fill-color);\n",
              "    }\n",
              "    90% {\n",
              "      border-color: transparent;\n",
              "      border-bottom-color: var(--fill-color);\n",
              "    }\n",
              "  }\n",
              "</style>\n",
              "\n",
              "  <script>\n",
              "    async function quickchart(key) {\n",
              "      const quickchartButtonEl =\n",
              "        document.querySelector('#' + key + ' button');\n",
              "      quickchartButtonEl.disabled = true;  // To prevent multiple clicks.\n",
              "      quickchartButtonEl.classList.add('colab-df-spinner');\n",
              "      try {\n",
              "        const charts = await google.colab.kernel.invokeFunction(\n",
              "            'suggestCharts', [key], {});\n",
              "      } catch (error) {\n",
              "        console.error('Error during call to suggestCharts:', error);\n",
              "      }\n",
              "      quickchartButtonEl.classList.remove('colab-df-spinner');\n",
              "      quickchartButtonEl.classList.add('colab-df-quickchart-complete');\n",
              "    }\n",
              "    (() => {\n",
              "      let quickchartButtonEl =\n",
              "        document.querySelector('#df-bf92e56f-a8f7-4f0e-9531-313c90977127 button');\n",
              "      quickchartButtonEl.style.display =\n",
              "        google.colab.kernel.accessAllowed ? 'block' : 'none';\n",
              "    })();\n",
              "  </script>\n",
              "</div>\n",
              "    </div>\n",
              "  </div>\n"
            ],
            "application/vnd.google.colaboratory.intrinsic+json": {
              "type": "dataframe",
              "variable_name": "df"
            }
          },
          "metadata": {},
          "execution_count": 14
        }
      ]
    },
    {
      "cell_type": "code",
      "source": [
        "df.groupby('user_id')['Date']"
      ],
      "metadata": {
        "id": "2ku91GWYRHUz",
        "colab": {
          "base_uri": "https://localhost:8080/"
        },
        "outputId": "70c76d6d-cac8-4313-d9f9-ff9021434b23"
      },
      "execution_count": null,
      "outputs": [
        {
          "output_type": "execute_result",
          "data": {
            "text/plain": [
              "<pandas.core.groupby.generic.SeriesGroupBy object at 0x79c838cd7130>"
            ]
          },
          "metadata": {},
          "execution_count": 15
        }
      ]
    },
    {
      "cell_type": "markdown",
      "source": [
        "### General Data Exploration\n"
      ],
      "metadata": {
        "id": "Ufgcp9FhDsl_"
      }
    },
    {
      "cell_type": "code",
      "source": [
        "print(len(df))\n",
        "df.columns"
      ],
      "metadata": {
        "id": "hhPB1gGRGtQx",
        "colab": {
          "base_uri": "https://localhost:8080/"
        },
        "outputId": "259f6207-cd90-4392-97d5-5fe23257bd56"
      },
      "execution_count": null,
      "outputs": [
        {
          "output_type": "stream",
          "name": "stdout",
          "text": [
            "59299\n"
          ]
        },
        {
          "output_type": "execute_result",
          "data": {
            "text/plain": [
              "Index(['user_id', 'gender', 'birthday', 'os', 'Date', 'Time', 'DateTime',\n",
              "       'question_1', 'question_2', 'question_3', 'question_4', 'question_5',\n",
              "       'X00.01', 'X01.02', 'X02.03', 'X03.04', 'X04.05', 'X05.06', 'X06.07',\n",
              "       'X07.08', 'X08.09', 'X09.10', 'X10.11', 'X11.12', 'X12.13', 'X13.14',\n",
              "       'X14.15', 'X15.16', 'X16.17', 'X17.18', 'X18.19', 'X19.20', 'X20.21',\n",
              "       'X21.22', 'X22.23', 'X23.00'],\n",
              "      dtype='object')"
            ]
          },
          "metadata": {},
          "execution_count": 16
        }
      ]
    },
    {
      "cell_type": "code",
      "source": [
        "cols = ['user_id', 'gender', 'birthday', 'os', 'Date', 'Time', 'DateTime',\n",
        "       'question_1', 'question_2', 'question_3', 'question_4', 'question_5']\n",
        "df[cols].nunique()"
      ],
      "metadata": {
        "id": "EYZr8Gd4HyZf",
        "colab": {
          "base_uri": "https://localhost:8080/"
        },
        "outputId": "f6c11b79-6abf-43b8-f4c6-91edaa9e7858"
      },
      "execution_count": null,
      "outputs": [
        {
          "output_type": "execute_result",
          "data": {
            "text/plain": [
              "user_id        2626\n",
              "gender            4\n",
              "birthday         72\n",
              "os                2\n",
              "Date            676\n",
              "Time          33585\n",
              "DateTime      58675\n",
              "question_1        9\n",
              "question_2       28\n",
              "question_3       28\n",
              "question_4       12\n",
              "question_5       11\n",
              "dtype: int64"
            ]
          },
          "metadata": {},
          "execution_count": 17
        }
      ]
    },
    {
      "cell_type": "code",
      "source": [
        "print(df.duplicated().sum())\n",
        "# duplicate are probably an error, so we remove them\n",
        "df = df.drop_duplicates()"
      ],
      "metadata": {
        "id": "creFAKF-vtj0",
        "colab": {
          "base_uri": "https://localhost:8080/"
        },
        "outputId": "2e0aa839-fe4b-4742-fdaa-9766b4ac3668"
      },
      "execution_count": null,
      "outputs": [
        {
          "output_type": "stream",
          "name": "stdout",
          "text": [
            "6\n"
          ]
        }
      ]
    },
    {
      "cell_type": "code",
      "source": [
        "# df.isna().sum() #count of nan's\n",
        "(df.isna().sum()/len(df))*100 #percentage of nan per column"
      ],
      "metadata": {
        "id": "L4KzE7v2wJ5u",
        "colab": {
          "base_uri": "https://localhost:8080/"
        },
        "outputId": "0a657597-2663-4f45-a444-a7b821846f86"
      },
      "execution_count": null,
      "outputs": [
        {
          "output_type": "execute_result",
          "data": {
            "text/plain": [
              "user_id        0.000000\n",
              "gender         0.003373\n",
              "birthday       0.003373\n",
              "os            56.441738\n",
              "Date           0.000000\n",
              "Time           0.003373\n",
              "DateTime       0.003373\n",
              "question_1     0.026985\n",
              "question_2     0.042163\n",
              "question_3     3.292126\n",
              "question_4     3.777849\n",
              "question_5     4.057815\n",
              "X00.01        89.907746\n",
              "X01.02        94.744742\n",
              "X02.03        97.072167\n",
              "X03.04        98.003137\n",
              "X04.05        98.547889\n",
              "X05.06        98.220701\n",
              "X06.07        94.990977\n",
              "X07.08        88.023881\n",
              "X08.09        81.309767\n",
              "X09.10        78.781644\n",
              "X10.11        75.646366\n",
              "X11.12        74.787918\n",
              "X12.13        71.441823\n",
              "X13.14        72.455433\n",
              "X14.15        72.990066\n",
              "X15.16        73.050782\n",
              "X16.17        73.062587\n",
              "X17.18        72.296898\n",
              "X18.19        72.293525\n",
              "X19.20        73.696726\n",
              "X20.21        75.470966\n",
              "X21.22        76.454219\n",
              "X22.23        78.218339\n",
              "X23.00        84.413000\n",
              "dtype: float64"
            ]
          },
          "metadata": {},
          "execution_count": 19
        }
      ]
    },
    {
      "cell_type": "markdown",
      "source": [
        "### Number of Entries Per User\n"
      ],
      "metadata": {
        "id": "uATicQVbXq0V"
      }
    },
    {
      "cell_type": "code",
      "source": [
        "sns.histplot(df['user_id'])\n",
        "plt.show()"
      ],
      "metadata": {
        "id": "YHGIcrGOYzOQ",
        "colab": {
          "base_uri": "https://localhost:8080/"
        },
        "outputId": "9e1901b1-3f9e-4af3-e9fc-e4291a27d34b"
      },
      "execution_count": null,
      "outputs": [
        {
          "output_type": "display_data",
          "data": {
            "text/plain": [
              "<Figure size 640x480 with 1 Axes>"
            ],
            "image/png": "[encoded data removed]"
          },
          "metadata": {}
        }
      ]
    },
    {
      "cell_type": "code",
      "source": [
        "num_entries_user = df['user_id'].value_counts()\n",
        "print(num_entries_user)\n",
        "print(num_entries_user.sum(axis=0))"
      ],
      "metadata": {
        "id": "hA_lKzSfXwG3",
        "colab": {
          "base_uri": "https://localhost:8080/"
        },
        "outputId": "0bae9e2d-0eac-4020-de64-c733370dead4"
      },
      "execution_count": null,
      "outputs": [
        {
          "output_type": "stream",
          "name": "stdout",
          "text": [
            "user_id\n",
            "3973    1618\n",
            "8400    1328\n",
            "9654     814\n",
            "9776     729\n",
            "1072     648\n",
            "        ... \n",
            "8846       1\n",
            "4337       1\n",
            "2433       1\n",
            "8499       1\n",
            "3902       1\n",
            "Name: count, Length: 2626, dtype: int64\n",
            "59293\n"
          ]
        }
      ]
    },
    {
      "cell_type": "code",
      "source": [
        "(df[df[\"user_id\"]==3973]['Date'])"
      ],
      "metadata": {
        "id": "pdqdUOIuRoBH",
        "colab": {
          "base_uri": "https://localhost:8080/"
        },
        "outputId": "e93c2cc8-764f-47ae-dc33-a3c9a8715a07"
      },
      "execution_count": null,
      "outputs": [
        {
          "output_type": "execute_result",
          "data": {
            "text/plain": [
              "13566   2022-06-11\n",
              "13567   2022-06-11\n",
              "13568   2022-06-12\n",
              "13569   2022-06-12\n",
              "13570   2022-06-12\n",
              "           ...    \n",
              "15179   2024-02-26\n",
              "15180   2024-02-27\n",
              "15181   2024-02-27\n",
              "15182   2024-02-28\n",
              "15183   2024-02-28\n",
              "Name: Date, Length: 1618, dtype: datetime64[ns]"
            ]
          },
          "metadata": {},
          "execution_count": 22
        }
      ]
    },
    {
      "cell_type": "markdown",
      "source": [
        "### New df: only users with more than 7 data points\n"
      ],
      "metadata": {
        "id": "cfze4TKlwoLB"
      }
    },
    {
      "cell_type": "code",
      "source": [
        "print(len(num_entries_user))\n",
        "#print((num_entries_user > 6).sum())\n",
        "print((num_entries_user <= 7).sum()) # number of user with at least 7 days of input\n",
        "idx = (num_entries_user <= 7).sum()-1\n",
        "\n",
        "# we create a list of id that have more than 7 entries\n",
        "user_id_entries7 = list(num_entries_user.iloc[:-idx].keys())"
      ],
      "metadata": {
        "id": "KKx-Vn4CZBcR",
        "colab": {
          "base_uri": "https://localhost:8080/"
        },
        "outputId": "bc84b01a-da00-4939-a175-42761fdd031e"
      },
      "execution_count": null,
      "outputs": [
        {
          "output_type": "stream",
          "name": "stdout",
          "text": [
            "2626\n",
            "1515\n"
          ]
        }
      ]
    },
    {
      "cell_type": "markdown",
      "source": [
        "**IMPORTANT**: from now on the variable df contain only users with more than 7 entries"
      ],
      "metadata": {
        "id": "tFwlwwlllJ4R"
      }
    },
    {
      "cell_type": "code",
      "source": [
        "# we create a new df with only users that have more than 7 entries\n",
        "df = df[df[\"user_id\"].isin(user_id_entries7)]\n",
        "#we plot the number of entries per user\n",
        "sns.lineplot(df.groupby('user_id')['gender'].count())\n",
        "plt.show()"
      ],
      "metadata": {
        "id": "fOfCm73rPBVT",
        "colab": {
          "base_uri": "https://localhost:8080/"
        },
        "outputId": "fc7624a2-d1d1-496e-9bd5-c23b2df1c48e"
      },
      "execution_count": null,
      "outputs": [
        {
          "output_type": "display_data",
          "data": {
            "text/plain": [
              "<Figure size 640x480 with 1 Axes>"
            ],
            "image/png": "[encoded data removed]"
          },
          "metadata": {}
        }
      ]
    },
    {
      "cell_type": "markdown",
      "source": [
        "## Data Cleaning / Feature Engineering"
      ],
      "metadata": {
        "id": "SaNcsmsScM6F"
      }
    },
    {
      "cell_type": "markdown",
      "source": [
        "### Translation to English"
      ],
      "metadata": {
        "id": "6pV80di9OYTt"
      }
    },
    {
      "cell_type": "code",
      "source": [
        "# Cell created by ChatGPT\n",
        "# After failed attemps to translate the df to English, I decide to go with ChatGPT's brute approach\n",
        "# Can be deleted at the end and return to original dataset.\n",
        "translation_dict = {\n",
        "    'Niet oke': 'Not okay',\n",
        "    'Oke': 'Okay',\n",
        "    'Goed': 'Good',\n",
        "    'Omgeving': 'Environment',\n",
        "    'Leuke taak': 'Fun task',\n",
        "    'Weet ik niet': 'I don\\'t know',\n",
        "    'Goede nacht': 'Good night',\n",
        "    'Gesprek': 'Conversation',\n",
        "    'Vakantie': 'Vacation',\n",
        "    'Ontevreden': 'Dissatisfied',\n",
        "    'Verrast': 'Surprised',\n",
        "    'Vreugdevol': 'Joyful',\n",
        "    'Nerveus': 'Nervous',\n",
        "    'Kalm': 'Calm',\n",
        "    'Blij': 'Happy',\n",
        "    'Moe': 'Tired',\n",
        "    'Angstig': 'Anxious',\n",
        "    'Energiek': 'Energetic',\n",
        "    'Verveeld': 'Bored',\n",
        "    'Melig': 'Giggly',\n",
        "    'Trots': 'Proud',\n",
        "    'Boos': 'Angry',\n",
        "    'Gefrustreerd': 'Frustrated',\n",
        "    'Onverschillig': 'Indifferent',\n",
        "    'Geliefd': 'Loved',\n",
        "    'Feestelijk': 'Festive',\n",
        "    'Verward': 'Confused',\n",
        "    'Tevreden': 'Satisfied',\n",
        "    'Geirriteerd': 'Irritated',\n",
        "    'Geinteresseerd': 'Interested',\n",
        "    'Somber': 'Gloomy',\n",
        "    'Opgelaten': 'Embarrassed',\n",
        "    'Verliefd': 'In love',\n",
        "    'Teleurgesteld': 'Disappointed',\n",
        "    'Bezorgd': 'Worried',\n",
        "    'Verdrietig': 'Sad',\n",
        "    'Bewondering': 'Admiration',\n",
        "    'Ziek': 'Sick',\n",
        "    'Oke nacht': 'Okay night',\n",
        "    'Stress': 'Stress',\n",
        "    'Sporten': 'Sports',\n",
        "    'Compliment': 'Compliment',\n",
        "    'Slecht nieuws': 'Bad news',\n",
        "    'Selfcare': 'Self-care',\n",
        "    'Rust': 'Rest',\n",
        "    'Goed nieuws': 'Good news',\n",
        "    'Eenzaam': 'Lonely',\n",
        "    'Feest': 'Party',\n",
        "    'Iets anders': 'Something else',\n",
        "    'Matig nieuws': 'Moderate news',\n",
        "    'Matige taak': 'Moderate task',\n",
        "    'Iemand ontmoet': 'Met someone',\n",
        "    'Agenda': 'Agenda',\n",
        "    'Slechte nacht': 'Bad night',\n",
        "    'Nieuwe relatie': 'New relationship',\n",
        "    'Volle agenda': 'Busy schedule',\n",
        "    'Ruzie': 'Argument',\n",
        "    'Stomme taak': 'Stupid task',\n",
        "    'Verrassing': 'Surprise',\n",
        "    'Werken': 'Work',\n",
        "    'Relaxen': 'Relaxing',\n",
        "    'Eten/drinken': 'Eating/drinking',\n",
        "    'Niets': 'Nothing',\n",
        "    'Huiswerk': 'Homework',\n",
        "    'Buiten zijn': 'Being outdoors',\n",
        "    'Gamen': 'Gaming',\n",
        "    'Visite/bezoek': 'Visiting',\n",
        "    'Televisie': 'Television',\n",
        "    'Klasgenoten': 'Classmates',\n",
        "    'Alleen': 'Alone',\n",
        "    'Relatie': 'Relationship',\n",
        "    'Vrienden': 'Friends',\n",
        "    'Collega’s': 'Colleagues',\n",
        "    'Huisgenoten': 'Housemates',\n",
        "    'Familie': 'Family',\n",
        "    'Iemand anders': 'Someone else',\n",
        "    'Gezin': 'Family',\n",
        "    'Huisdieren': 'Pets',\n",
        "    'Zeg ik niet': 'I won\\'t say'\n",
        "}"
      ],
      "metadata": {
        "id": "rqFUaYOMe9Mz"
      },
      "execution_count": null,
      "outputs": []
    },
    {
      "cell_type": "code",
      "source": [
        "# Apply translation to each column\n",
        "df['question_1'] = df['question_1'].map(translation_dict)\n",
        "df['question_2'] = df['question_2'].map(translation_dict)\n",
        "df['question_3'] = df['question_3'].map(translation_dict)\n",
        "df['question_4'] = df['question_4'].map(translation_dict)\n",
        "df['question_5'] = df['question_5'].map(translation_dict)\n",
        "\n",
        "# Check unique values after translation\n",
        "print(df['question_1'].unique())\n",
        "print(df['question_2'].unique())\n",
        "print(df['question_3'].unique())\n",
        "print(df['question_4'].unique())\n",
        "print(df['question_5'].unique())"
      ],
      "metadata": {
        "colab": {
          "base_uri": "https://localhost:8080/"
        },
        "id": "DHNPH5bTvcmN",
        "outputId": "de074619-dd17-428c-c7ea-c4a840bbad61"
      },
      "execution_count": null,
      "outputs": [
        {
          "output_type": "stream",
          "name": "stdout",
          "text": [
            "['Not okay' 'Okay' 'Good' 'Environment' nan 'Fun task' \"I don't know\"\n",
            " 'Good night' 'Conversation']\n",
            "['Dissatisfied' 'Surprised' 'Joyful' 'Nervous' 'Calm' 'Happy' 'Tired'\n",
            " 'Anxious' 'Energetic' 'Bored' 'Giggly' 'Proud' 'Angry' 'Frustrated'\n",
            " 'Festive' 'Satisfied' 'Confused' 'Irritated' 'Interested' 'Gloomy'\n",
            " 'Embarrassed' 'Indifferent' 'In love' 'Loved' nan 'Disappointed'\n",
            " 'Worried' 'Sad' 'Admiration']\n",
            "['Sick' nan 'Okay night' 'Stress' 'Sports' 'Compliment' 'Fun task'\n",
            " 'Bad news' 'Self-care' 'Rest' 'Good news' 'Good night' 'Lonely' 'Party'\n",
            " 'Something else' 'Moderate task' 'Conversation' 'Met someone'\n",
            " 'Moderate news' 'Agenda' \"I don't know\" 'Vacation' 'Bad night'\n",
            " 'Environment' 'New relationship' 'Busy schedule' 'Argument' 'Stupid task'\n",
            " 'Surprise']\n",
            "['Something else' nan 'Work' 'Relaxing' 'Eating/drinking' 'Nothing'\n",
            " 'Homework' 'Being outdoors' 'Gaming' 'Sports' 'Television' 'Visiting'\n",
            " \"I don't know\"]\n",
            "['Classmates' nan 'Alone' 'Relationship' 'Friends' 'Colleagues'\n",
            " 'Housemates' 'Family' 'Someone else' 'Pets' \"I won't say\"]\n"
          ]
        }
      ]
    },
    {
      "cell_type": "markdown",
      "source": [
        "### Demographic Data"
      ],
      "metadata": {
        "id": "XQz4sN5omouc"
      }
    },
    {
      "cell_type": "code",
      "source": [
        "dem_col = ['user_id', 'gender', 'birthday', 'os']\n",
        "df[dem_col].isna().sum()"
      ],
      "metadata": {
        "colab": {
          "base_uri": "https://localhost:8080/"
        },
        "id": "67yrdflfoITl",
        "outputId": "3a3e201d-c8d3-4870-9bd3-c15d3d4451e9"
      },
      "execution_count": null,
      "outputs": [
        {
          "output_type": "execute_result",
          "data": {
            "text/plain": [
              "user_id         0\n",
              "gender          2\n",
              "birthday        2\n",
              "os          30518\n",
              "dtype: int64"
            ]
          },
          "metadata": {},
          "execution_count": 27
        }
      ]
    },
    {
      "cell_type": "markdown",
      "source": [
        "What we do with these na values:\n",
        "- os: we can delete column/ not relevant for the project\n",
        "- birthday and gender: we investigate further"
      ],
      "metadata": {
        "id": "jU7hSZxRpWDg"
      }
    },
    {
      "cell_type": "code",
      "source": [
        "# deleting column 'os'\n",
        "df = df.drop(columns=['os'])"
      ],
      "metadata": {
        "id": "XyntIYJNw7jl"
      },
      "execution_count": null,
      "outputs": []
    },
    {
      "cell_type": "code",
      "source": [
        "df[df['birthday'].isna()]"
      ],
      "metadata": {
        "colab": {
          "base_uri": "https://localhost:8080/"
        },
        "id": "5f2U-SdBv4wu",
        "outputId": "66bc176b-87b5-47ab-ce03-59edf15569be"
      },
      "execution_count": null,
      "outputs": [
        {
          "output_type": "execute_result",
          "data": {
            "text/plain": [
              "       user_id gender  birthday       Date Time DateTime question_1  \\\n",
              "38043     6507    NaN       NaN 2022-12-30  NaN      NaT        NaN   \n",
              "54391     3198    NaN       NaN 2023-10-23  NaN      NaT        NaN   \n",
              "\n",
              "      question_2 question_3 question_4  ...  X14.15  X15.16  X16.17  X17.18  \\\n",
              "38043        NaN        NaN        NaN  ...  2814.0     NaN     NaN  1077.0   \n",
              "54391        NaN        NaN        NaN  ...     NaN     NaN     NaN     NaN   \n",
              "\n",
              "       X18.19  X19.20  X20.21  X21.22  X22.23  X23.00  \n",
              "38043   365.0    45.0     NaN     NaN     8.0     NaN  \n",
              "54391     NaN     NaN     NaN     NaN     NaN     NaN  \n",
              "\n",
              "[2 rows x 35 columns]"
            ],
            "text/html": [
              "\n",
              "  <div id=\"df-29e8db01-84f2-4ba6-a4f6-9c1940e89d64\" class=\"colab-df-container\">\n",
              "    <div>\n",
              "<style scoped>\n",
              "    .dataframe tbody tr th:only-of-type {\n",
              "        vertical-align: middle;\n",
              "    }\n",
              "\n",
              "    .dataframe tbody tr th {\n",
              "        vertical-align: top;\n",
              "    }\n",
              "\n",
              "    .dataframe thead th {\n",
              "        text-align: right;\n",
              "    }\n",
              "</style>\n",
              "<table border=\"1\" class=\"dataframe\">\n",
              "  <thead>\n",
              "    <tr style=\"text-align: right;\">\n",
              "      <th></th>\n",
              "      <th>user_id</th>\n",
              "      <th>gender</th>\n",
              "      <th>birthday</th>\n",
              "      <th>Date</th>\n",
              "      <th>Time</th>\n",
              "      <th>DateTime</th>\n",
              "      <th>question_1</th>\n",
              "      <th>question_2</th>\n",
              "      <th>question_3</th>\n",
              "      <th>question_4</th>\n",
              "      <th>...</th>\n",
              "      <th>X14.15</th>\n",
              "      <th>X15.16</th>\n",
              "      <th>X16.17</th>\n",
              "      <th>X17.18</th>\n",
              "      <th>X18.19</th>\n",
              "      <th>X19.20</th>\n",
              "      <th>X20.21</th>\n",
              "      <th>X21.22</th>\n",
              "      <th>X22.23</th>\n",
              "      <th>X23.00</th>\n",
              "    </tr>\n",
              "  </thead>\n",
              "  <tbody>\n",
              "    <tr>\n",
              "      <th>38043</th>\n",
              "      <td>6507</td>\n",
              "      <td>NaN</td>\n",
              "      <td>NaN</td>\n",
              "      <td>2022-12-30</td>\n",
              "      <td>NaN</td>\n",
              "      <td>NaT</td>\n",
              "      <td>NaN</td>\n",
              "      <td>NaN</td>\n",
              "      <td>NaN</td>\n",
              "      <td>NaN</td>\n",
              "      <td>...</td>\n",
              "      <td>2814.0</td>\n",
              "      <td>NaN</td>\n",
              "      <td>NaN</td>\n",
              "      <td>1077.0</td>\n",
              "      <td>365.0</td>\n",
              "      <td>45.0</td>\n",
              "      <td>NaN</td>\n",
              "      <td>NaN</td>\n",
              "      <td>8.0</td>\n",
              "      <td>NaN</td>\n",
              "    </tr>\n",
              "    <tr>\n",
              "      <th>54391</th>\n",
              "      <td>3198</td>\n",
              "      <td>NaN</td>\n",
              "      <td>NaN</td>\n",
              "      <td>2023-10-23</td>\n",
              "      <td>NaN</td>\n",
              "      <td>NaT</td>\n",
              "      <td>NaN</td>\n",
              "      <td>NaN</td>\n",
              "      <td>NaN</td>\n",
              "      <td>NaN</td>\n",
              "      <td>...</td>\n",
              "      <td>NaN</td>\n",
              "      <td>NaN</td>\n",
              "      <td>NaN</td>\n",
              "      <td>NaN</td>\n",
              "      <td>NaN</td>\n",
              "      <td>NaN</td>\n",
              "      <td>NaN</td>\n",
              "      <td>NaN</td>\n",
              "      <td>NaN</td>\n",
              "      <td>NaN</td>\n",
              "    </tr>\n",
              "  </tbody>\n",
              "</table>\n",
              "<p>2 rows × 35 columns</p>\n",
              "</div>\n",
              "    <div class=\"colab-df-buttons\">\n",
              "\n",
              "  <div class=\"colab-df-container\">\n",
              "    <button class=\"colab-df-convert\" onclick=\"convertToInteractive('df-29e8db01-84f2-4ba6-a4f6-9c1940e89d64')\"\n",
              "            title=\"Convert this dataframe to an interactive table.\"\n",
              "            style=\"display:none;\">\n",
              "\n",
              "  <svg xmlns=\"http://www.w3.org/2000/svg\" height=\"24px\" viewBox=\"0 -960 960 960\">\n",
              "    <path d=\"M120-120v-720h720v720H120Zm60-500h600v-160H180v160Zm220 220h160v-160H400v160Zm0 220h160v-160H400v160ZM180-400h160v-160H180v160Zm440 0h160v-160H620v160ZM180-180h160v-160H180v160Zm440 0h160v-160H620v160Z\"/>\n",
              "  </svg>\n",
              "    </button>\n",
              "\n",
              "  <style>\n",
              "    .colab-df-container {\n",
              "      display:flex;\n",
              "      gap: 12px;\n",
              "    }\n",
              "\n",
              "    .colab-df-convert {\n",
              "      background-color: #E8F0FE;\n",
              "      border: none;\n",
              "      border-radius: 50%;\n",
              "      cursor: pointer;\n",
              "      display: none;\n",
              "      fill: #1967D2;\n",
              "      height: 32px;\n",
              "      padding: 0 0 0 0;\n",
              "      width: 32px;\n",
              "    }\n",
              "\n",
              "    .colab-df-convert:hover {\n",
              "      background-color: #E2EBFA;\n",
              "      box-shadow: 0px 1px 2px rgba(60, 64, 67, 0.3), 0px 1px 3px 1px rgba(60, 64, 67, 0.15);\n",
              "      fill: #174EA6;\n",
              "    }\n",
              "\n",
              "    .colab-df-buttons div {\n",
              "      margin-bottom: 4px;\n",
              "    }\n",
              "\n",
              "    [theme=dark] .colab-df-convert {\n",
              "      background-color: #3B4455;\n",
              "      fill: #D2E3FC;\n",
              "    }\n",
              "\n",
              "    [theme=dark] .colab-df-convert:hover {\n",
              "      background-color: #434B5C;\n",
              "      box-shadow: 0px 1px 3px 1px rgba(0, 0, 0, 0.15);\n",
              "      filter: drop-shadow(0px 1px 2px rgba(0, 0, 0, 0.3));\n",
              "      fill: #FFFFFF;\n",
              "    }\n",
              "  </style>\n",
              "\n",
              "    <script>\n",
              "      const buttonEl =\n",
              "        document.querySelector('#df-29e8db01-84f2-4ba6-a4f6-9c1940e89d64 button.colab-df-convert');\n",
              "      buttonEl.style.display =\n",
              "        google.colab.kernel.accessAllowed ? 'block' : 'none';\n",
              "\n",
              "      async function convertToInteractive(key) {\n",
              "        const element = document.querySelector('#df-29e8db01-84f2-4ba6-a4f6-9c1940e89d64');\n",
              "        const dataTable =\n",
              "          await google.colab.kernel.invokeFunction('convertToInteractive',\n",
              "                                                    [key], {});\n",
              "        if (!dataTable) return;\n",
              "\n",
              "        const docLinkHtml = 'Like what you see? Visit the ' +\n",
              "          '<a target=\"_blank\" href=https://colab.research.google.com/notebooks/data_table.ipynb>data table notebook</a>'\n",
              "          + ' to learn more about interactive tables.';\n",
              "        element.innerHTML = '';\n",
              "        dataTable['output_type'] = 'display_data';\n",
              "        await google.colab.output.renderOutput(dataTable, element);\n",
              "        const docLink = document.createElement('div');\n",
              "        docLink.innerHTML = docLinkHtml;\n",
              "        element.appendChild(docLink);\n",
              "      }\n",
              "    </script>\n",
              "  </div>\n",
              "\n",
              "\n",
              "<div id=\"df-08e0ff7b-d8be-4bd3-9e59-36d977864f47\">\n",
              "  <button class=\"colab-df-quickchart\" onclick=\"quickchart('df-08e0ff7b-d8be-4bd3-9e59-36d977864f47')\"\n",
              "            title=\"Suggest charts\"\n",
              "            style=\"display:none;\">\n",
              "\n",
              "<svg xmlns=\"http://www.w3.org/2000/svg\" height=\"24px\"viewBox=\"0 0 24 24\"\n",
              "     width=\"24px\">\n",
              "    <g>\n",
              "        <path d=\"M19 3H5c-1.1 0-2 .9-2 2v14c0 1.1.9 2 2 2h14c1.1 0 2-.9 2-2V5c0-1.1-.9-2-2-2zM9 17H7v-7h2v7zm4 0h-2V7h2v10zm4 0h-2v-4h2v4z\"/>\n",
              "    </g>\n",
              "</svg>\n",
              "  </button>\n",
              "\n",
              "<style>\n",
              "  .colab-df-quickchart {\n",
              "      --bg-color: #E8F0FE;\n",
              "      --fill-color: #1967D2;\n",
              "      --hover-bg-color: #E2EBFA;\n",
              "      --hover-fill-color: #174EA6;\n",
              "      --disabled-fill-color: #AAA;\n",
              "      --disabled-bg-color: #DDD;\n",
              "  }\n",
              "\n",
              "  [theme=dark] .colab-df-quickchart {\n",
              "      --bg-color: #3B4455;\n",
              "      --fill-color: #D2E3FC;\n",
              "      --hover-bg-color: #434B5C;\n",
              "      --hover-fill-color: #FFFFFF;\n",
              "      --disabled-bg-color: #3B4455;\n",
              "      --disabled-fill-color: #666;\n",
              "  }\n",
              "\n",
              "  .colab-df-quickchart {\n",
              "    background-color: var(--bg-color);\n",
              "    border: none;\n",
              "    border-radius: 50%;\n",
              "    cursor: pointer;\n",
              "    display: none;\n",
              "    fill: var(--fill-color);\n",
              "    height: 32px;\n",
              "    padding: 0;\n",
              "    width: 32px;\n",
              "  }\n",
              "\n",
              "  .colab-df-quickchart:hover {\n",
              "    background-color: var(--hover-bg-color);\n",
              "    box-shadow: 0 1px 2px rgba(60, 64, 67, 0.3), 0 1px 3px 1px rgba(60, 64, 67, 0.15);\n",
              "    fill: var(--button-hover-fill-color);\n",
              "  }\n",
              "\n",
              "  .colab-df-quickchart-complete:disabled,\n",
              "  .colab-df-quickchart-complete:disabled:hover {\n",
              "    background-color: var(--disabled-bg-color);\n",
              "    fill: var(--disabled-fill-color);\n",
              "    box-shadow: none;\n",
              "  }\n",
              "\n",
              "  .colab-df-spinner {\n",
              "    border: 2px solid var(--fill-color);\n",
              "    border-color: transparent;\n",
              "    border-bottom-color: var(--fill-color);\n",
              "    animation:\n",
              "      spin 1s steps(1) infinite;\n",
              "  }\n",
              "\n",
              "  @keyframes spin {\n",
              "    0% {\n",
              "      border-color: transparent;\n",
              "      border-bottom-color: var(--fill-color);\n",
              "      border-left-color: var(--fill-color);\n",
              "    }\n",
              "    20% {\n",
              "      border-color: transparent;\n",
              "      border-left-color: var(--fill-color);\n",
              "      border-top-color: var(--fill-color);\n",
              "    }\n",
              "    30% {\n",
              "      border-color: transparent;\n",
              "      border-left-color: var(--fill-color);\n",
              "      border-top-color: var(--fill-color);\n",
              "      border-right-color: var(--fill-color);\n",
              "    }\n",
              "    40% {\n",
              "      border-color: transparent;\n",
              "      border-right-color: var(--fill-color);\n",
              "      border-top-color: var(--fill-color);\n",
              "    }\n",
              "    60% {\n",
              "      border-color: transparent;\n",
              "      border-right-color: var(--fill-color);\n",
              "    }\n",
              "    80% {\n",
              "      border-color: transparent;\n",
              "      border-right-color: var(--fill-color);\n",
              "      border-bottom-color: var(--fill-color);\n",
              "    }\n",
              "    90% {\n",
              "      border-color: transparent;\n",
              "      border-bottom-color: var(--fill-color);\n",
              "    }\n",
              "  }\n",
              "</style>\n",
              "\n",
              "  <script>\n",
              "    async function quickchart(key) {\n",
              "      const quickchartButtonEl =\n",
              "        document.querySelector('#' + key + ' button');\n",
              "      quickchartButtonEl.disabled = true;  // To prevent multiple clicks.\n",
              "      quickchartButtonEl.classList.add('colab-df-spinner');\n",
              "      try {\n",
              "        const charts = await google.colab.kernel.invokeFunction(\n",
              "            'suggestCharts', [key], {});\n",
              "      } catch (error) {\n",
              "        console.error('Error during call to suggestCharts:', error);\n",
              "      }\n",
              "      quickchartButtonEl.classList.remove('colab-df-spinner');\n",
              "      quickchartButtonEl.classList.add('colab-df-quickchart-complete');\n",
              "    }\n",
              "    (() => {\n",
              "      let quickchartButtonEl =\n",
              "        document.querySelector('#df-08e0ff7b-d8be-4bd3-9e59-36d977864f47 button');\n",
              "      quickchartButtonEl.style.display =\n",
              "        google.colab.kernel.accessAllowed ? 'block' : 'none';\n",
              "    })();\n",
              "  </script>\n",
              "</div>\n",
              "    </div>\n",
              "  </div>\n"
            ],
            "application/vnd.google.colaboratory.intrinsic+json": {
              "type": "dataframe"
            }
          },
          "metadata": {},
          "execution_count": 29
        }
      ]
    },
    {
      "cell_type": "markdown",
      "source": [
        "Neither of these rows add any value to the analysis, so we delete them from the df."
      ],
      "metadata": {
        "id": "mOoi7OyUxnA6"
      }
    },
    {
      "cell_type": "code",
      "source": [
        "nan_birthday_index = df[df['birthday'].isna()].index\n",
        "\n",
        "# Drop rows with NaN values in the 'birthday' column\n",
        "df.drop(index=nan_birthday_index, inplace=True)"
      ],
      "metadata": {
        "id": "UN_Gdue8qhCu"
      },
      "execution_count": null,
      "outputs": []
    },
    {
      "cell_type": "code",
      "source": [
        "df[['user_id', 'gender', 'birthday']].isna().sum()"
      ],
      "metadata": {
        "colab": {
          "base_uri": "https://localhost:8080/"
        },
        "id": "c7ufOUZ3xXDj",
        "outputId": "5a4f71c2-f27e-4f2b-aec2-8d84c1999659"
      },
      "execution_count": null,
      "outputs": [
        {
          "output_type": "execute_result",
          "data": {
            "text/plain": [
              "user_id     0\n",
              "gender      0\n",
              "birthday    0\n",
              "dtype: int64"
            ]
          },
          "metadata": {},
          "execution_count": 31
        }
      ]
    },
    {
      "cell_type": "markdown",
      "source": [
        "Now we one-hot-encode the gender column"
      ],
      "metadata": {
        "id": "JVhVrz7MyeDl"
      }
    },
    {
      "cell_type": "code",
      "source": [
        "# concatenate our df with these new one-hot-encoded df\n",
        "# df_encoded = pd.get_dummies(df, columns=['gender'])\n",
        "# pd.concat([df,df_encoded], axis=1)"
      ],
      "metadata": {
        "id": "e97rCxXdzu77"
      },
      "execution_count": null,
      "outputs": []
    },
    {
      "cell_type": "markdown",
      "source": [
        "### Physical Activity Data\n"
      ],
      "metadata": {
        "id": "E3AelVmPOyo2"
      }
    },
    {
      "cell_type": "markdown",
      "source": [
        "First, we convert nan values into 0, so we can use these columns."
      ],
      "metadata": {
        "id": "6Y8ju5uaR8Km"
      }
    },
    {
      "cell_type": "code",
      "source": [
        "activity =  ['X00.01', 'X01.02', 'X02.03', 'X03.04', 'X04.05', 'X05.06', 'X06.07',\n",
        "                  'X07.08', 'X08.09', 'X09.10', 'X10.11', 'X11.12', 'X12.13', 'X13.14',\n",
        "                  'X14.15', 'X15.16', 'X16.17', 'X17.18', 'X18.19', 'X19.20', 'X20.21',\n",
        "                  'X21.22', 'X22.23', 'X23.00']\n",
        "\n",
        "df[activity] = df[activity].fillna(0)"
      ],
      "metadata": {
        "id": "YIc0OAkHeZhV"
      },
      "execution_count": null,
      "outputs": []
    },
    {
      "cell_type": "markdown",
      "source": [
        "Creating a column with daily activity (the sum of all steps in a day)"
      ],
      "metadata": {
        "id": "nZpjeQU0XYiO"
      }
    },
    {
      "cell_type": "code",
      "source": [
        "df['daily_activity']=df[activity].sum(axis=1)\n",
        "df['daily_activity'].describe()"
      ],
      "metadata": {
        "colab": {
          "base_uri": "https://localhost:8080/"
        },
        "id": "_S8F-vUbVxek",
        "outputId": "d9d485ae-c9a3-4184-d6de-0376d3f754da"
      },
      "execution_count": null,
      "outputs": [
        {
          "output_type": "execute_result",
          "data": {
            "text/plain": [
              "count    55031.000000\n",
              "mean      2119.653868\n",
              "std       3875.527864\n",
              "min          0.000000\n",
              "25%          0.000000\n",
              "50%          0.000000\n",
              "75%       3132.000000\n",
              "max      48792.000000\n",
              "Name: daily_activity, dtype: float64"
            ]
          },
          "metadata": {},
          "execution_count": 34
        }
      ]
    },
    {
      "cell_type": "code",
      "source": [
        "# we plot the mean number of steps per user\n",
        "plt.plot(df.groupby(['user_id'])['daily_activity'].mean())\n",
        "plt.title('Average Daily Steps per User')\n",
        "plt.show()"
      ],
      "metadata": {
        "colab": {
          "base_uri": "https://localhost:8080/"
        },
        "id": "hEkUbzkAfrvF",
        "outputId": "f34e2330-b83c-4b6f-c25a-ba616c1f6f04"
      },
      "execution_count": null,
      "outputs": [
        {
          "output_type": "display_data",
          "data": {
            "text/plain": [
              "<Figure size 640x480 with 1 Axes>"
            ],
            "image/png": "[encoded data removed]"
          },
          "metadata": {}
        }
      ]
    },
    {
      "cell_type": "markdown",
      "source": [
        "### Question- Columns"
      ],
      "metadata": {
        "id": "27HxkeV3mQ_c"
      }
    },
    {
      "cell_type": "markdown",
      "source": [
        "Dealing with null values"
      ],
      "metadata": {
        "id": "VuD2M_UPx7cc"
      }
    },
    {
      "cell_type": "code",
      "source": [
        "questions = ['user_id','Date', 'Time', 'DateTime', 'question_1',\n",
        "       'question_2', 'question_3', 'question_4', 'question_5']\n",
        "\n",
        "print(df[questions].isna().sum().sum()) # total number of nan\n",
        "df[questions].isna().sum()"
      ],
      "metadata": {
        "colab": {
          "base_uri": "https://localhost:8080/"
        },
        "id": "gcQMdSuwmh5Y",
        "outputId": "5455ad78-1d3d-48d2-b7f3-a4bf1627eef5"
      },
      "execution_count": null,
      "outputs": [
        {
          "output_type": "stream",
          "name": "stdout",
          "text": [
            "5822\n"
          ]
        },
        {
          "output_type": "execute_result",
          "data": {
            "text/plain": [
              "user_id          0\n",
              "Date             0\n",
              "Time             0\n",
              "DateTime         0\n",
              "question_1       7\n",
              "question_2      13\n",
              "question_3    1756\n",
              "question_4    1959\n",
              "question_5    2087\n",
              "dtype: int64"
            ]
          },
          "metadata": {},
          "execution_count": 36
        }
      ]
    },
    {
      "cell_type": "code",
      "source": [
        "q =['question_1', 'question_2', 'question_3', 'question_4', 'question_5']\n",
        "\n",
        "df[q]"
      ],
      "metadata": {
        "colab": {
          "base_uri": "https://localhost:8080/"
        },
        "id": "aRPNXSieO7Zq",
        "outputId": "ff937829-a425-4375-97bf-b32e6c242650"
      },
      "execution_count": null,
      "outputs": [
        {
          "output_type": "execute_result",
          "data": {
            "text/plain": [
              "      question_1    question_2      question_3      question_4  question_5\n",
              "0       Not okay  Dissatisfied            Sick  Something else  Classmates\n",
              "1           Okay     Surprised             NaN             NaN         NaN\n",
              "2           Okay     Surprised      Okay night            Work  Classmates\n",
              "3           Good        Joyful             NaN             NaN         NaN\n",
              "4       Not okay       Nervous          Stress            Work       Alone\n",
              "...          ...           ...             ...             ...         ...\n",
              "59252   Not okay    Frustrated  Something else  Something else  Classmates\n",
              "59253   Not okay       Worried            Sick         Nothing       Alone\n",
              "59254   Not okay           Sad          Lonely        Homework  Classmates\n",
              "59268       Okay      Confused          Agenda            Work       Alone\n",
              "59271       Good          Calm        Fun task  Something else  Classmates\n",
              "\n",
              "[55031 rows x 5 columns]"
            ],
            "text/html": [
              "\n",
              "  <div id=\"df-22192f64-832e-484f-93bc-69d5fb155732\" class=\"colab-df-container\">\n",
              "    <div>\n",
              "<style scoped>\n",
              "    .dataframe tbody tr th:only-of-type {\n",
              "        vertical-align: middle;\n",
              "    }\n",
              "\n",
              "    .dataframe tbody tr th {\n",
              "        vertical-align: top;\n",
              "    }\n",
              "\n",
              "    .dataframe thead th {\n",
              "        text-align: right;\n",
              "    }\n",
              "</style>\n",
              "<table border=\"1\" class=\"dataframe\">\n",
              "  <thead>\n",
              "    <tr style=\"text-align: right;\">\n",
              "      <th></th>\n",
              "      <th>question_1</th>\n",
              "      <th>question_2</th>\n",
              "      <th>question_3</th>\n",
              "      <th>question_4</th>\n",
              "      <th>question_5</th>\n",
              "    </tr>\n",
              "  </thead>\n",
              "  <tbody>\n",
              "    <tr>\n",
              "      <th>0</th>\n",
              "      <td>Not okay</td>\n",
              "      <td>Dissatisfied</td>\n",
              "      <td>Sick</td>\n",
              "      <td>Something else</td>\n",
              "      <td>Classmates</td>\n",
              "    </tr>\n",
              "    <tr>\n",
              "      <th>1</th>\n",
              "      <td>Okay</td>\n",
              "      <td>Surprised</td>\n",
              "      <td>NaN</td>\n",
              "      <td>NaN</td>\n",
              "      <td>NaN</td>\n",
              "    </tr>\n",
              "    <tr>\n",
              "      <th>2</th>\n",
              "      <td>Okay</td>\n",
              "      <td>Surprised</td>\n",
              "      <td>Okay night</td>\n",
              "      <td>Work</td>\n",
              "      <td>Classmates</td>\n",
              "    </tr>\n",
              "    <tr>\n",
              "      <th>3</th>\n",
              "      <td>Good</td>\n",
              "      <td>Joyful</td>\n",
              "      <td>NaN</td>\n",
              "      <td>NaN</td>\n",
              "      <td>NaN</td>\n",
              "    </tr>\n",
              "    <tr>\n",
              "      <th>4</th>\n",
              "      <td>Not okay</td>\n",
              "      <td>Nervous</td>\n",
              "      <td>Stress</td>\n",
              "      <td>Work</td>\n",
              "      <td>Alone</td>\n",
              "    </tr>\n",
              "    <tr>\n",
              "      <th>...</th>\n",
              "      <td>...</td>\n",
              "      <td>...</td>\n",
              "      <td>...</td>\n",
              "      <td>...</td>\n",
              "      <td>...</td>\n",
              "    </tr>\n",
              "    <tr>\n",
              "      <th>59252</th>\n",
              "      <td>Not okay</td>\n",
              "      <td>Frustrated</td>\n",
              "      <td>Something else</td>\n",
              "      <td>Something else</td>\n",
              "      <td>Classmates</td>\n",
              "    </tr>\n",
              "    <tr>\n",
              "      <th>59253</th>\n",
              "      <td>Not okay</td>\n",
              "      <td>Worried</td>\n",
              "      <td>Sick</td>\n",
              "      <td>Nothing</td>\n",
              "      <td>Alone</td>\n",
              "    </tr>\n",
              "    <tr>\n",
              "      <th>59254</th>\n",
              "      <td>Not okay</td>\n",
              "      <td>Sad</td>\n",
              "      <td>Lonely</td>\n",
              "      <td>Homework</td>\n",
              "      <td>Classmates</td>\n",
              "    </tr>\n",
              "    <tr>\n",
              "      <th>59268</th>\n",
              "      <td>Okay</td>\n",
              "      <td>Confused</td>\n",
              "      <td>Agenda</td>\n",
              "      <td>Work</td>\n",
              "      <td>Alone</td>\n",
              "    </tr>\n",
              "    <tr>\n",
              "      <th>59271</th>\n",
              "      <td>Good</td>\n",
              "      <td>Calm</td>\n",
              "      <td>Fun task</td>\n",
              "      <td>Something else</td>\n",
              "      <td>Classmates</td>\n",
              "    </tr>\n",
              "  </tbody>\n",
              "</table>\n",
              "<p>55031 rows × 5 columns</p>\n",
              "</div>\n",
              "    <div class=\"colab-df-buttons\">\n",
              "\n",
              "  <div class=\"colab-df-container\">\n",
              "    <button class=\"colab-df-convert\" onclick=\"convertToInteractive('df-22192f64-832e-484f-93bc-69d5fb155732')\"\n",
              "            title=\"Convert this dataframe to an interactive table.\"\n",
              "            style=\"display:none;\">\n",
              "\n",
              "  <svg xmlns=\"http://www.w3.org/2000/svg\" height=\"24px\" viewBox=\"0 -960 960 960\">\n",
              "    <path d=\"M120-120v-720h720v720H120Zm60-500h600v-160H180v160Zm220 220h160v-160H400v160Zm0 220h160v-160H400v160ZM180-400h160v-160H180v160Zm440 0h160v-160H620v160ZM180-180h160v-160H180v160Zm440 0h160v-160H620v160Z\"/>\n",
              "  </svg>\n",
              "    </button>\n",
              "\n",
              "  <style>\n",
              "    .colab-df-container {\n",
              "      display:flex;\n",
              "      gap: 12px;\n",
              "    }\n",
              "\n",
              "    .colab-df-convert {\n",
              "      background-color: #E8F0FE;\n",
              "      border: none;\n",
              "      border-radius: 50%;\n",
              "      cursor: pointer;\n",
              "      display: none;\n",
              "      fill: #1967D2;\n",
              "      height: 32px;\n",
              "      padding: 0 0 0 0;\n",
              "      width: 32px;\n",
              "    }\n",
              "\n",
              "    .colab-df-convert:hover {\n",
              "      background-color: #E2EBFA;\n",
              "      box-shadow: 0px 1px 2px rgba(60, 64, 67, 0.3), 0px 1px 3px 1px rgba(60, 64, 67, 0.15);\n",
              "      fill: #174EA6;\n",
              "    }\n",
              "\n",
              "    .colab-df-buttons div {\n",
              "      margin-bottom: 4px;\n",
              "    }\n",
              "\n",
              "    [theme=dark] .colab-df-convert {\n",
              "      background-color: #3B4455;\n",
              "      fill: #D2E3FC;\n",
              "    }\n",
              "\n",
              "    [theme=dark] .colab-df-convert:hover {\n",
              "      background-color: #434B5C;\n",
              "      box-shadow: 0px 1px 3px 1px rgba(0, 0, 0, 0.15);\n",
              "      filter: drop-shadow(0px 1px 2px rgba(0, 0, 0, 0.3));\n",
              "      fill: #FFFFFF;\n",
              "    }\n",
              "  </style>\n",
              "\n",
              "    <script>\n",
              "      const buttonEl =\n",
              "        document.querySelector('#df-22192f64-832e-484f-93bc-69d5fb155732 button.colab-df-convert');\n",
              "      buttonEl.style.display =\n",
              "        google.colab.kernel.accessAllowed ? 'block' : 'none';\n",
              "\n",
              "      async function convertToInteractive(key) {\n",
              "        const element = document.querySelector('#df-22192f64-832e-484f-93bc-69d5fb155732');\n",
              "        const dataTable =\n",
              "          await google.colab.kernel.invokeFunction('convertToInteractive',\n",
              "                                                    [key], {});\n",
              "        if (!dataTable) return;\n",
              "\n",
              "        const docLinkHtml = 'Like what you see? Visit the ' +\n",
              "          '<a target=\"_blank\" href=https://colab.research.google.com/notebooks/data_table.ipynb>data table notebook</a>'\n",
              "          + ' to learn more about interactive tables.';\n",
              "        element.innerHTML = '';\n",
              "        dataTable['output_type'] = 'display_data';\n",
              "        await google.colab.output.renderOutput(dataTable, element);\n",
              "        const docLink = document.createElement('div');\n",
              "        docLink.innerHTML = docLinkHtml;\n",
              "        element.appendChild(docLink);\n",
              "      }\n",
              "    </script>\n",
              "  </div>\n",
              "\n",
              "\n",
              "<div id=\"df-f8652ea4-63a0-426c-9708-aa1ae084ec8d\">\n",
              "  <button class=\"colab-df-quickchart\" onclick=\"quickchart('df-f8652ea4-63a0-426c-9708-aa1ae084ec8d')\"\n",
              "            title=\"Suggest charts\"\n",
              "            style=\"display:none;\">\n",
              "\n",
              "<svg xmlns=\"http://www.w3.org/2000/svg\" height=\"24px\"viewBox=\"0 0 24 24\"\n",
              "     width=\"24px\">\n",
              "    <g>\n",
              "        <path d=\"M19 3H5c-1.1 0-2 .9-2 2v14c0 1.1.9 2 2 2h14c1.1 0 2-.9 2-2V5c0-1.1-.9-2-2-2zM9 17H7v-7h2v7zm4 0h-2V7h2v10zm4 0h-2v-4h2v4z\"/>\n",
              "    </g>\n",
              "</svg>\n",
              "  </button>\n",
              "\n",
              "<style>\n",
              "  .colab-df-quickchart {\n",
              "      --bg-color: #E8F0FE;\n",
              "      --fill-color: #1967D2;\n",
              "      --hover-bg-color: #E2EBFA;\n",
              "      --hover-fill-color: #174EA6;\n",
              "      --disabled-fill-color: #AAA;\n",
              "      --disabled-bg-color: #DDD;\n",
              "  }\n",
              "\n",
              "  [theme=dark] .colab-df-quickchart {\n",
              "      --bg-color: #3B4455;\n",
              "      --fill-color: #D2E3FC;\n",
              "      --hover-bg-color: #434B5C;\n",
              "      --hover-fill-color: #FFFFFF;\n",
              "      --disabled-bg-color: #3B4455;\n",
              "      --disabled-fill-color: #666;\n",
              "  }\n",
              "\n",
              "  .colab-df-quickchart {\n",
              "    background-color: var(--bg-color);\n",
              "    border: none;\n",
              "    border-radius: 50%;\n",
              "    cursor: pointer;\n",
              "    display: none;\n",
              "    fill: var(--fill-color);\n",
              "    height: 32px;\n",
              "    padding: 0;\n",
              "    width: 32px;\n",
              "  }\n",
              "\n",
              "  .colab-df-quickchart:hover {\n",
              "    background-color: var(--hover-bg-color);\n",
              "    box-shadow: 0 1px 2px rgba(60, 64, 67, 0.3), 0 1px 3px 1px rgba(60, 64, 67, 0.15);\n",
              "    fill: var(--button-hover-fill-color);\n",
              "  }\n",
              "\n",
              "  .colab-df-quickchart-complete:disabled,\n",
              "  .colab-df-quickchart-complete:disabled:hover {\n",
              "    background-color: var(--disabled-bg-color);\n",
              "    fill: var(--disabled-fill-color);\n",
              "    box-shadow: none;\n",
              "  }\n",
              "\n",
              "  .colab-df-spinner {\n",
              "    border: 2px solid var(--fill-color);\n",
              "    border-color: transparent;\n",
              "    border-bottom-color: var(--fill-color);\n",
              "    animation:\n",
              "      spin 1s steps(1) infinite;\n",
              "  }\n",
              "\n",
              "  @keyframes spin {\n",
              "    0% {\n",
              "      border-color: transparent;\n",
              "      border-bottom-color: var(--fill-color);\n",
              "      border-left-color: var(--fill-color);\n",
              "    }\n",
              "    20% {\n",
              "      border-color: transparent;\n",
              "      border-left-color: var(--fill-color);\n",
              "      border-top-color: var(--fill-color);\n",
              "    }\n",
              "    30% {\n",
              "      border-color: transparent;\n",
              "      border-left-color: var(--fill-color);\n",
              "      border-top-color: var(--fill-color);\n",
              "      border-right-color: var(--fill-color);\n",
              "    }\n",
              "    40% {\n",
              "      border-color: transparent;\n",
              "      border-right-color: var(--fill-color);\n",
              "      border-top-color: var(--fill-color);\n",
              "    }\n",
              "    60% {\n",
              "      border-color: transparent;\n",
              "      border-right-color: var(--fill-color);\n",
              "    }\n",
              "    80% {\n",
              "      border-color: transparent;\n",
              "      border-right-color: var(--fill-color);\n",
              "      border-bottom-color: var(--fill-color);\n",
              "    }\n",
              "    90% {\n",
              "      border-color: transparent;\n",
              "      border-bottom-color: var(--fill-color);\n",
              "    }\n",
              "  }\n",
              "</style>\n",
              "\n",
              "  <script>\n",
              "    async function quickchart(key) {\n",
              "      const quickchartButtonEl =\n",
              "        document.querySelector('#' + key + ' button');\n",
              "      quickchartButtonEl.disabled = true;  // To prevent multiple clicks.\n",
              "      quickchartButtonEl.classList.add('colab-df-spinner');\n",
              "      try {\n",
              "        const charts = await google.colab.kernel.invokeFunction(\n",
              "            'suggestCharts', [key], {});\n",
              "      } catch (error) {\n",
              "        console.error('Error during call to suggestCharts:', error);\n",
              "      }\n",
              "      quickchartButtonEl.classList.remove('colab-df-spinner');\n",
              "      quickchartButtonEl.classList.add('colab-df-quickchart-complete');\n",
              "    }\n",
              "    (() => {\n",
              "      let quickchartButtonEl =\n",
              "        document.querySelector('#df-f8652ea4-63a0-426c-9708-aa1ae084ec8d button');\n",
              "      quickchartButtonEl.style.display =\n",
              "        google.colab.kernel.accessAllowed ? 'block' : 'none';\n",
              "    })();\n",
              "  </script>\n",
              "</div>\n",
              "    </div>\n",
              "  </div>\n"
            ],
            "application/vnd.google.colaboratory.intrinsic+json": {
              "type": "dataframe",
              "summary": "{\n  \"name\": \"df[q]\",\n  \"rows\": 55031,\n  \"fields\": [\n    {\n      \"column\": \"question_1\",\n      \"properties\": {\n        \"dtype\": \"category\",\n        \"num_unique_values\": 8,\n        \"samples\": [\n          \"Okay\",\n          \"I don't know\",\n          \"Not okay\"\n        ],\n        \"semantic_type\": \"\",\n        \"description\": \"\"\n      }\n    },\n    {\n      \"column\": \"question_2\",\n      \"properties\": {\n        \"dtype\": \"category\",\n        \"num_unique_values\": 28,\n        \"samples\": [\n          \"Bored\",\n          \"Worried\",\n          \"Energetic\"\n        ],\n        \"semantic_type\": \"\",\n        \"description\": \"\"\n      }\n    },\n    {\n      \"column\": \"question_3\",\n      \"properties\": {\n        \"dtype\": \"category\",\n        \"num_unique_values\": 28,\n        \"samples\": [\n          \"Good news\",\n          \"Argument\",\n          \"Rest\"\n        ],\n        \"semantic_type\": \"\",\n        \"description\": \"\"\n      }\n    },\n    {\n      \"column\": \"question_4\",\n      \"properties\": {\n        \"dtype\": \"category\",\n        \"num_unique_values\": 12,\n        \"samples\": [\n          \"Visiting\",\n          \"Television\",\n          \"Something else\"\n        ],\n        \"semantic_type\": \"\",\n        \"description\": \"\"\n      }\n    },\n    {\n      \"column\": \"question_5\",\n      \"properties\": {\n        \"dtype\": \"category\",\n        \"num_unique_values\": 10,\n        \"samples\": [\n          \"Pets\",\n          \"Alone\",\n          \"Housemates\"\n        ],\n        \"semantic_type\": \"\",\n        \"description\": \"\"\n      }\n    }\n  ]\n}"
            }
          },
          "metadata": {},
          "execution_count": 37
        }
      ]
    },
    {
      "cell_type": "markdown",
      "source": [
        "#### Question 1"
      ],
      "metadata": {
        "id": "DTPgUwa0dMPs"
      }
    },
    {
      "cell_type": "markdown",
      "source": [
        "Because Question 1 is very important, we can delete observations that do not contain an answer."
      ],
      "metadata": {
        "id": "-kLAgTRscr-v"
      }
    },
    {
      "cell_type": "code",
      "source": [
        "print(df['question_1'].isna().sum())\n",
        "del_idx = df[df['question_1'].isna()].index\n",
        "df.drop(del_idx, inplace= True)\n",
        "print(df['question_1'].isna().sum()) #double checking that we delete the null values"
      ],
      "metadata": {
        "colab": {
          "base_uri": "https://localhost:8080/"
        },
        "id": "l3rbfbVHc6o5",
        "outputId": "ebd08d61-10e9-42f5-8b46-60c2760360a7"
      },
      "execution_count": null,
      "outputs": [
        {
          "output_type": "stream",
          "name": "stdout",
          "text": [
            "7\n",
            "0\n"
          ]
        }
      ]
    },
    {
      "cell_type": "code",
      "source": [
        "df['question_1'].value_counts()"
      ],
      "metadata": {
        "colab": {
          "base_uri": "https://localhost:8080/"
        },
        "id": "xbwsb2pjeft0",
        "outputId": "e5c3a1a2-e836-48d7-9f70-fdbcaeadc8fc"
      },
      "execution_count": null,
      "outputs": [
        {
          "output_type": "execute_result",
          "data": {
            "text/plain": [
              "question_1\n",
              "Good            22868\n",
              "Okay            21760\n",
              "Not okay        10391\n",
              "Environment         1\n",
              "Fun task            1\n",
              "I don't know        1\n",
              "Good night          1\n",
              "Conversation        1\n",
              "Name: count, dtype: int64"
            ]
          },
          "metadata": {},
          "execution_count": 39
        }
      ]
    },
    {
      "cell_type": "markdown",
      "source": [
        "#### Question 2"
      ],
      "metadata": {
        "id": "akx3kW6ndQx-"
      }
    },
    {
      "cell_type": "markdown",
      "source": [
        "Same here. Question 2 is maybe the most important for the analysis. So we delete the observations with nan in the question 2 column"
      ],
      "metadata": {
        "id": "F41cmE6Qd1ff"
      }
    },
    {
      "cell_type": "code",
      "source": [
        "print(df['question_2'].isna().sum())\n",
        "del_idx = df[df['question_2'].isna()].index\n",
        "df.drop(del_idx, inplace= True)\n",
        "print(df['question_2'].isna().sum())"
      ],
      "metadata": {
        "id": "zEIstJqqmTtj",
        "colab": {
          "base_uri": "https://localhost:8080/"
        },
        "outputId": "9467ea0c-9a61-4ff2-d48e-2f49e6fa564e"
      },
      "execution_count": null,
      "outputs": [
        {
          "output_type": "stream",
          "name": "stdout",
          "text": [
            "6\n",
            "0\n"
          ]
        }
      ]
    },
    {
      "cell_type": "code",
      "source": [
        "#df['question_2'].value_counts()"
      ],
      "metadata": {
        "id": "4tbsW-D0etqu"
      },
      "execution_count": null,
      "outputs": []
    },
    {
      "cell_type": "markdown",
      "source": [
        "#### Question 3"
      ],
      "metadata": {
        "id": "mdPFYBqsdQqb"
      }
    },
    {
      "cell_type": "code",
      "source": [
        "# na values\n",
        "print(df['question_3'].isna().sum())\n",
        "print(df['question_3'].isna().sum()/df.isna().sum().sum()) # %"
      ],
      "metadata": {
        "colab": {
          "base_uri": "https://localhost:8080/"
        },
        "id": "IGFCsmzZfrAI",
        "outputId": "7ce38d71-210a-4877-b94f-11fa9409effa"
      },
      "execution_count": null,
      "outputs": [
        {
          "output_type": "stream",
          "name": "stdout",
          "text": [
            "1744\n",
            "0.30141721396474247\n"
          ]
        }
      ]
    },
    {
      "cell_type": "code",
      "source": [
        "df['question_3'] = df['question_3'].fillna('NA')\n",
        "#df['question_3'].value_counts()"
      ],
      "metadata": {
        "id": "Me--QnwBJ0UA"
      },
      "execution_count": null,
      "outputs": []
    },
    {
      "cell_type": "markdown",
      "source": [
        "#### Question 4"
      ],
      "metadata": {
        "id": "L1Ew2Oq0dQfa"
      }
    },
    {
      "cell_type": "code",
      "source": [
        "# na values\n",
        "print(df['question_4'].isna().sum())\n",
        "print(df['question_4'].isna().sum()/df.isna().sum().sum()) # %"
      ],
      "metadata": {
        "colab": {
          "base_uri": "https://localhost:8080/"
        },
        "id": "isKHM4OugVKq",
        "outputId": "225eafb1-6e87-4fd9-99ce-bc7ecee7eb47"
      },
      "execution_count": null,
      "outputs": [
        {
          "output_type": "stream",
          "name": "stdout",
          "text": [
            "1955\n",
            "0.48367144977733795\n"
          ]
        }
      ]
    },
    {
      "cell_type": "code",
      "source": [
        "df['question_4'] = df['question_4'].fillna('NA')\n",
        "df['question_4'].value_counts()"
      ],
      "metadata": {
        "id": "WKtKeoB3df8n",
        "colab": {
          "base_uri": "https://localhost:8080/"
        },
        "outputId": "57a26a92-3952-4aaa-f05e-ae528e94ee3b"
      },
      "execution_count": null,
      "outputs": [
        {
          "output_type": "execute_result",
          "data": {
            "text/plain": [
              "question_4\n",
              "Relaxing           13596\n",
              "Something else      7438\n",
              "Work                7211\n",
              "Nothing             5976\n",
              "Eating/drinking     5544\n",
              "Being outdoors      3695\n",
              "Television          3201\n",
              "Homework            3047\n",
              "NA                  1955\n",
              "Visiting            1454\n",
              "Gaming              1026\n",
              "Sports               874\n",
              "I don't know           1\n",
              "Name: count, dtype: int64"
            ]
          },
          "metadata": {},
          "execution_count": 45
        }
      ]
    },
    {
      "cell_type": "markdown",
      "source": [
        "#### Question 5"
      ],
      "metadata": {
        "id": "7tC_7AbjdQV3"
      }
    },
    {
      "cell_type": "code",
      "source": [
        "# na values\n",
        "print(df['question_5'].isna().sum())\n",
        "print(df['question_5'].isna().sum()/df.isna().sum().sum()) # %"
      ],
      "metadata": {
        "colab": {
          "base_uri": "https://localhost:8080/"
        },
        "id": "c0bVTJZjgXRM",
        "outputId": "54babbce-9256-4b3a-d310-c97ddfc5f843"
      },
      "execution_count": null,
      "outputs": [
        {
          "output_type": "stream",
          "name": "stdout",
          "text": [
            "2087\n",
            "1.0\n"
          ]
        }
      ]
    },
    {
      "cell_type": "code",
      "source": [
        "#df['question_5'].value_counts()\n",
        "df['question_5'] = df['question_5'].fillna('NA')\n",
        "df['question_5'].value_counts()"
      ],
      "metadata": {
        "colab": {
          "base_uri": "https://localhost:8080/"
        },
        "id": "2ECYkmwPdgvA",
        "outputId": "08894fcb-bb80-450e-cc77-3999ebd0a326"
      },
      "execution_count": null,
      "outputs": [
        {
          "output_type": "execute_result",
          "data": {
            "text/plain": [
              "question_5\n",
              "Alone           24410\n",
              "Family          10379\n",
              "Relationship     5033\n",
              "Friends          3892\n",
              "Colleagues       3420\n",
              "NA               2087\n",
              "Pets             1949\n",
              "Classmates       1732\n",
              "Someone else     1112\n",
              "Housemates        881\n",
              "I won't say       123\n",
              "Name: count, dtype: int64"
            ]
          },
          "metadata": {},
          "execution_count": 47
        }
      ]
    },
    {
      "cell_type": "markdown",
      "source": [
        "## Experiments"
      ],
      "metadata": {
        "id": "NDtAV04ShzFM"
      }
    },
    {
      "cell_type": "markdown",
      "source": [
        "### Exp1- Cluster\n"
      ],
      "metadata": {
        "id": "QkkpyOY9o96Z"
      }
    },
    {
      "cell_type": "markdown",
      "source": [
        "Cluster analysis of all entries regardless of the user"
      ],
      "metadata": {
        "id": "ATmUG1oVs5E9"
      }
    },
    {
      "cell_type": "code",
      "source": [
        "temp = df[['user_id','gender', 'question_1', 'question_2', 'question_3', 'question_4', 'question_5', 'daily_activity']]"
      ],
      "metadata": {
        "id": "Yu7hdAR4kBSz"
      },
      "execution_count": null,
      "outputs": []
    },
    {
      "cell_type": "code",
      "source": [
        "#temp"
      ],
      "metadata": {
        "id": "KRM84RB6ldG0"
      },
      "execution_count": null,
      "outputs": []
    },
    {
      "cell_type": "code",
      "source": [
        "from sklearn.cluster import KMeans\n",
        "from sklearn.preprocessing import LabelEncoder, StandardScaler\n",
        "\n",
        "# encode categorical variables\n",
        "col = ['user_id','gender','question_1', 'question_2', 'question_3', 'question_4', 'question_5']\n",
        "label_encoder = LabelEncoder()\n",
        "for col in temp.columns:\n",
        "    if temp[col].dtype == 'object':\n",
        "        temp[col] = label_encoder.fit_transform(temp[col])\n",
        "\n",
        "X = temp.drop(['user_id'], axis=1)\n",
        "\n",
        "# normalize data\n",
        "scaler = StandardScaler()\n",
        "X_scaled = scaler.fit_transform(X)\n",
        "\n",
        "n_clusters = 10\n",
        "kmeans = KMeans(n_clusters=n_clusters, random_state=42)\n",
        "kmeans.fit(X_scaled)\n",
        "cluster_labels = kmeans.labels_\n",
        "temp['cluster'] = cluster_labels\n",
        "\n",
        "# Analyze clusters\n",
        "cluster_profiles = temp.groupby('cluster').mean()\n",
        "print(cluster_profiles)"
      ],
      "metadata": {
        "colab": {
          "base_uri": "https://localhost:8080/"
        },
        "id": "TZ2ECKT4l9GZ",
        "outputId": "dd5c5a12-2a97-4f64-daf0-649f16ea94b1"
      },
      "execution_count": null,
      "outputs": [
        {
          "output_type": "stream",
          "name": "stdout",
          "text": [
            "             user_id    gender  question_1  question_2  question_3  \\\n",
            "cluster                                                              \n",
            "0        5373.401462  2.022060    1.735548   24.013953   19.678272   \n",
            "1        5872.465408  1.785893    0.137791   14.240509   15.213143   \n",
            "2        5384.349105  0.004573    0.883897    7.173360   14.884493   \n",
            "3        5839.622999  2.026815    0.057552   13.340011   14.274828   \n",
            "4        5615.092676  0.002356    1.385824   22.759081   14.222266   \n",
            "5        5517.258547  1.169872    0.878205   14.822115   15.107639   \n",
            "6        5783.096843  0.005768    0.879174   15.952641   15.638737   \n",
            "7        5378.031030  2.017127    1.691719   19.066089    3.686077   \n",
            "8        5750.229855  2.017338    0.883256   16.485469   15.259577   \n",
            "9        5445.062487  2.022819    1.740030    5.147153   17.543826   \n",
            "\n",
            "         question_4  question_5  daily_activity  \n",
            "cluster                                          \n",
            "0          7.051694    0.988173     1149.809701  \n",
            "1          1.009058    2.234727     1273.984583  \n",
            "2          7.363221    1.031014     1379.871372  \n",
            "3          8.601696    1.653206     1098.171489  \n",
            "4          7.286079    1.061653     1618.638523  \n",
            "5          6.053419    2.596955    12888.837607  \n",
            "6          5.923497    8.429569     1658.176988  \n",
            "7          6.913963    1.263953     1467.484787  \n",
            "8          6.251156    8.533025     1515.040951  \n",
            "9          6.718064    1.359778     1198.538068  \n"
          ]
        }
      ]
    },
    {
      "cell_type": "code",
      "source": [
        "sns.histplot(temp['cluster'])\n",
        "plt.show()\n"
      ],
      "metadata": {
        "colab": {
          "base_uri": "https://localhost:8080/"
        },
        "id": "8PPbmEEymeo9",
        "outputId": "ffff5606-b6cd-40d3-ab48-1d76a705c245"
      },
      "execution_count": null,
      "outputs": [
        {
          "output_type": "display_data",
          "data": {
            "text/plain": [
              "<Figure size 640x480 with 1 Axes>"
            ],
            "image/png": "[encoded data removed]"
          },
          "metadata": {}
        }
      ]
    },
    {
      "cell_type": "markdown",
      "source": [
        "### Exp 2 - 7day Cluster\n"
      ],
      "metadata": {
        "id": "77QVV-KrqFL_"
      }
    },
    {
      "cell_type": "markdown",
      "source": [
        "cluster analysis of the last 7 entries of each user"
      ],
      "metadata": {
        "id": "DBUKQRDVs950"
      }
    },
    {
      "cell_type": "code",
      "source": [
        "from sklearn.preprocessing import LabelEncoder, StandardScaler\n",
        "from sklearn.cluster import KMeans\n",
        "\n",
        "\n",
        "last_7_entries = temp.groupby('user_id').tail(7)\n",
        "\n",
        "# encode categorical variables if needed\n",
        "label_encoder = LabelEncoder()\n",
        "for column in last_7_entries.select_dtypes(include=['object']).columns:\n",
        "    last_7_entries[column] = label_encoder.fit_transform(last_7_entries[column])\n",
        "\n",
        "# normalize the data\n",
        "scaler = StandardScaler()\n",
        "scaled_data = scaler.fit_transform(last_7_entries.drop(['user_id'], axis=1))\n",
        "\n",
        "kmeans = KMeans(n_clusters=10)  # change k\n",
        "last_7_entries['cluster'] = kmeans.fit_predict(scaled_data)\n",
        "\n",
        "cluster_centers = scaler.inverse_transform(kmeans.cluster_centers_)\n",
        "cluster_centers_df = pd.DataFrame(cluster_centers, columns=last_7_entries.columns[:-1])  # Exclude the 'cluster' column\n",
        "cluster_centers_df['cluster'] = range(len(cluster_centers_df))\n",
        "\n",
        "print(cluster_centers_df)\n"
      ],
      "metadata": {
        "colab": {
          "base_uri": "https://localhost:8080/"
        },
        "id": "da8LcfNDqReV",
        "outputId": "6207bddf-7f67-4693-bfa9-bca01c0e5dd2"
      },
      "execution_count": null,
      "outputs": [
        {
          "output_type": "stream",
          "name": "stdout",
          "text": [
            "    user_id    gender  question_1  question_2  question_3  question_4  \\\n",
            "0  2.019727  1.693475    5.283763   17.491654    6.895296    1.418816   \n",
            "1  0.001420  1.335227   22.761364   13.515625    7.639205    1.218750   \n",
            "2  2.012715  0.061331   13.007479   14.784592    8.741960    1.599850   \n",
            "3  1.761442  0.144244   14.782247   15.352288    1.102635    2.190014   \n",
            "4  1.193059  0.780911   14.453362   15.898048    6.052061    3.101952   \n",
            "5  1.247831  0.147460   13.892193   15.630731    6.061958    8.495663   \n",
            "6  2.016591  1.641026   18.472097    3.503771    6.892911    1.273002   \n",
            "7  2.015322  1.680286   23.932584   19.751788    7.099081    1.101124   \n",
            "8  1.533019  1.745283   19.185535   14.542453    6.213836    8.465409   \n",
            "9  0.004896  0.832313    7.188494   14.320685    7.378213    1.139535   \n",
            "\n",
            "     question_5  daily_activity  cluster  \n",
            "0    899.028832    8.995448e+00        0  \n",
            "1   1586.538352    4.021307e+00        1  \n",
            "2   1018.881077    3.000000e+00        2  \n",
            "3   1156.084605    1.000000e+00        3  \n",
            "4  12987.481562    5.015184e+00        4  \n",
            "5   1225.530359    7.246592e+00        5  \n",
            "6   1183.429864    7.001508e+00        6  \n",
            "7   1113.881512    1.687539e-14        7  \n",
            "8   1264.867925    7.507862e+00        8  \n",
            "9   1327.662179    2.004896e+00        9  \n"
          ]
        }
      ]
    },
    {
      "cell_type": "markdown",
      "source": [
        "### Exp 3 - Scores"
      ],
      "metadata": {
        "id": "mnho_XCBusOt"
      }
    },
    {
      "cell_type": "code",
      "source": [
        "# calculate user's wellbeing score\n",
        "# Scoring system:\n",
        "# from the last 7 entries of the user:\n",
        "# okay: 0\n",
        "# not okay: -1\n",
        "# good: +1\n",
        "# if 2 or more  not okay: -1\n",
        "# if 4 or more not okay: -2\n",
        "# if 5 or more good: +1\n",
        "# okay entries do not affect the score\n",
        "\n",
        "\n",
        "# we could maybe also use the average of the last 7 days of number of steps to further influence this score"
      ],
      "metadata": {
        "id": "-P7KjxcC33m-"
      },
      "execution_count": null,
      "outputs": []
    },
    {
      "cell_type": "code",
      "source": [
        "def calculate_wellbeing_score(answer):\n",
        "    not_okay_count = (answer['question_1'] == 'Not okay').sum()\n",
        "    good_count = (answer['question_1'] == 'Good').sum()\n",
        "\n",
        "    score = 0\n",
        "    if not_okay_count >= 2:\n",
        "        score -= 2\n",
        "    if not_okay_count >= 4:\n",
        "        score -= 1  #\n",
        "    if good_count >= 5:\n",
        "        score += 1\n",
        "\n",
        "    return score"
      ],
      "metadata": {
        "id": "kb5RQMsZOCs8"
      },
      "execution_count": null,
      "outputs": []
    },
    {
      "cell_type": "code",
      "source": [
        "last_7_entries = df.groupby('user_id').tail(7)\n",
        "\n",
        "# Calculate wellbeing score for each user\n",
        "q1_scores = last_7_entries.groupby('user_id').apply(calculate_wellbeing_score)\n",
        "print(q1_scores.value_counts())"
      ],
      "metadata": {
        "colab": {
          "base_uri": "https://localhost:8080/"
        },
        "id": "cTsZV7DxQh1l",
        "outputId": "a90fc052-6467-40b2-ae2b-255f760d60eb"
      },
      "execution_count": null,
      "outputs": [
        {
          "output_type": "stream",
          "name": "stdout",
          "text": [
            " 0    430\n",
            "-2    295\n",
            " 1    253\n",
            "-3    119\n",
            "-1     15\n",
            "Name: count, dtype: int64\n"
          ]
        }
      ]
    },
    {
      "cell_type": "markdown",
      "source": [
        "### Physical Activity w/O null"
      ],
      "metadata": {
        "id": "vwwrGVNBUce8"
      }
    },
    {
      "cell_type": "code",
      "source": [
        "# include also activity score in wellbeing?"
      ],
      "metadata": {
        "id": "k02xxPhfbBhY"
      },
      "execution_count": null,
      "outputs": []
    },
    {
      "cell_type": "code",
      "source": [
        "avg7_DA=(last_7_entries.groupby('user_id').tail()).groupby('user_id')['daily_activity'].mean()\n",
        "avg7_DA.describe()\n",
        "plt.plot(avg7_DA)\n",
        "plt.show()"
      ],
      "metadata": {
        "colab": {
          "base_uri": "https://localhost:8080/",
          "height": 430
        },
        "id": "wHlPJHoJTQcw",
        "outputId": "83edcef6-9f63-4429-e735-3c1913d8ec0e"
      },
      "execution_count": null,
      "outputs": [
        {
          "output_type": "display_data",
          "data": {
            "text/plain": [
              "<Figure size 640x480 with 1 Axes>"
            ],
            "image/png": "[encoded data removed]"
          },
          "metadata": {}
        }
      ]
    },
    {
      "cell_type": "code",
      "source": [
        "(avg7_DA==0).sum()\n",
        "(avg7_DA==0).sum()/len(avg7_DA)"
      ],
      "metadata": {
        "colab": {
          "base_uri": "https://localhost:8080/"
        },
        "id": "ZJFkMquUT9oG",
        "outputId": "1bc2b3af-6330-4e8e-99ee-a7701a862c96"
      },
      "execution_count": null,
      "outputs": [
        {
          "output_type": "execute_result",
          "data": {
            "text/plain": [
              "0.5386690647482014"
            ]
          },
          "metadata": {},
          "execution_count": 58
        }
      ]
    },
    {
      "cell_type": "code",
      "source": [
        "del_idx = avg7_DA[avg7_DA == 0].index\n",
        "DA7 = avg7_DA.drop(del_idx)"
      ],
      "metadata": {
        "id": "0jBr8lygbIrU"
      },
      "execution_count": null,
      "outputs": []
    },
    {
      "cell_type": "code",
      "source": [
        "DA7.describe()"
      ],
      "metadata": {
        "colab": {
          "base_uri": "https://localhost:8080/"
        },
        "id": "dG4YSCrhbt2M",
        "outputId": "a34f5c00-c709-4335-fc9b-81472069202f"
      },
      "execution_count": null,
      "outputs": [
        {
          "output_type": "execute_result",
          "data": {
            "text/plain": [
              "count      513.000000\n",
              "mean      3648.232359\n",
              "std       2773.632405\n",
              "min         19.600000\n",
              "25%       1672.000000\n",
              "50%       2876.600000\n",
              "75%       4831.800000\n",
              "max      16128.000000\n",
              "Name: daily_activity, dtype: float64"
            ]
          },
          "metadata": {},
          "execution_count": 60
        }
      ]
    },
    {
      "cell_type": "code",
      "source": [
        "plt.plot(DA7)\n",
        "plt.show()"
      ],
      "metadata": {
        "colab": {
          "base_uri": "https://localhost:8080/",
          "height": 430
        },
        "id": "pBIrr-tgbl_R",
        "outputId": "2fd47cfb-d7bb-4052-e762-3f9e222d0ad3"
      },
      "execution_count": null,
      "outputs": [
        {
          "output_type": "display_data",
          "data": {
            "text/plain": [
              "<Figure size 640x480 with 1 Axes>"
            ],
            "image/png": "[encoded data removed]"
          },
          "metadata": {}
        }
      ]
    },
    {
      "cell_type": "markdown",
      "source": [
        "#### Consistent Users"
      ],
      "metadata": {
        "id": "N54NKa7CUqf9"
      }
    },
    {
      "cell_type": "code",
      "source": [
        "def consistent_users(df):\n",
        "    return [userID for userID in df['user_id'].unique() if check_consecutive(df[df['user_id'] == userID]['Date'])]\n",
        "\n",
        "\n",
        "def check_consecutive(dates):\n",
        "    series =  pd.Series(pd.Series(pd.to_datetime(dates)).unique())  # Convert to datetime and create Series\n",
        "\n",
        "    # Sort the series to make sure it is in order\n",
        "    series = series.sort_values()\n",
        "\n",
        "    # Calculate the differences between consecutive dates\n",
        "    differences = series.diff()\n",
        "\n",
        "    # Check if there are six consecutive differences of one day each\n",
        "    has_seven_consecutive_days = (differences == pd.Timedelta(days=1)).rolling(window=6).sum() == 6\n",
        "\n",
        "    # Check if any such sequence exists\n",
        "    result = has_seven_consecutive_days.any()\n",
        "    return result"
      ],
      "metadata": {
        "id": "Ij2RHzL_UqFV"
      },
      "execution_count": null,
      "outputs": []
    },
    {
      "cell_type": "markdown",
      "source": [
        "## Ideas"
      ],
      "metadata": {
        "id": "m-kONORMchvU"
      }
    },
    {
      "cell_type": "markdown",
      "source": [
        "- check distribution of answers per question. Group many low-frequency anserws into one other-category. So we reduce the number of dimensions of the df\n",
        "\n",
        "- create a physical score and a emotional score, the combination of both should create an overall score\n",
        "\n",
        "- group emotions into categorizes (maybe like positive, negative, neutral? Not sure)\n",
        "\n"
      ],
      "metadata": {
        "id": "7c9oo4DbyADC"
      }
    },
    {
      "cell_type": "markdown",
      "source": [
        "Scoring system:\n",
        "\n",
        "- Create a score system for each question\n",
        "- Bag different emotions/ actions into categories\n",
        "- Find a way to use the scores plus the activity data to create a profile"
      ],
      "metadata": {
        "id": "lC0wrCWKRDiB"
      }
    },
    {
      "cell_type": "markdown",
      "source": [
        "## Notes"
      ],
      "metadata": {
        "id": "CJ_ofSirhClH"
      }
    },
    {
      "cell_type": "markdown",
      "source": [
        "Not sure how to handle the missing values from Q3-Q5\n",
        "- I have filled them with \"NA\" (as a string)\n",
        "- but maybe there are better ways to handle these missing values."
      ],
      "metadata": {
        "id": "YtvK4d5HhEiS"
      }
    },
    {
      "cell_type": "code",
      "source": [
        "def seven_entries(df):\n",
        "  user_counts = df.groupby('user_id').count()\n",
        "  idx7 = user_counts[user_counts['question_1'] >= 7].index\n",
        "  df7 = df[df['user_id'].isin(idx7)]\n",
        "  df7 = df7.groupby('user_id').tail(7)\n",
        "  return df7\n",
        "\n",
        "temp = df[['user_id', 'question_1', 'question_5','total_steps' ]]\n",
        "df7 = seven_entries(temp)\n",
        "weekly_stats = (pd.get_dummies(df7)).groupby('user_id').sum()"
      ],
      "metadata": {
        "colab": {
          "base_uri": "https://localhost:8080/",
          "height": 356
        },
        "id": "a-BciGyWNom7",
        "outputId": "5fa616e1-85d1-4220-e0a4-53de68663ee7"
      },
      "execution_count": null,
      "outputs": [
        {
          "output_type": "error",
          "ename": "KeyError",
          "evalue": "\"['total_steps'] not in index\"",
          "traceback": [
            "\u001b[0;31m---------------------------------------------------------------------------\u001b[0m",
            "\u001b[0;31mKeyError\u001b[0m                                  Traceback (most recent call last)",
            "\u001b[0;32m<ipython-input-65-445a7cd09c5f>\u001b[0m in \u001b[0;36m<cell line: 8>\u001b[0;34m()\u001b[0m\n\u001b[1;32m      6\u001b[0m   \u001b[0;32mreturn\u001b[0m \u001b[0mdf7\u001b[0m\u001b[0;34m\u001b[0m\u001b[0;34m\u001b[0m\u001b[0m\n\u001b[1;32m      7\u001b[0m \u001b[0;34m\u001b[0m\u001b[0m\n\u001b[0;32m----> 8\u001b[0;31m \u001b[0mtemp\u001b[0m \u001b[0;34m=\u001b[0m \u001b[0mdf\u001b[0m\u001b[0;34m[\u001b[0m\u001b[0;34m[\u001b[0m\u001b[0;34m'user_id'\u001b[0m\u001b[0;34m,\u001b[0m \u001b[0;34m'question_1'\u001b[0m\u001b[0;34m,\u001b[0m \u001b[0;34m'question_5'\u001b[0m\u001b[0;34m,\u001b[0m\u001b[0;34m'total_steps'\u001b[0m \u001b[0;34m]\u001b[0m\u001b[0;34m]\u001b[0m\u001b[0;34m\u001b[0m\u001b[0;34m\u001b[0m\u001b[0m\n\u001b[0m\u001b[1;32m      9\u001b[0m \u001b[0mdf7\u001b[0m \u001b[0;34m=\u001b[0m \u001b[0mseven_entries\u001b[0m\u001b[0;34m(\u001b[0m\u001b[0mtemp\u001b[0m\u001b[0;34m)\u001b[0m\u001b[0;34m\u001b[0m\u001b[0;34m\u001b[0m\u001b[0m\n\u001b[1;32m     10\u001b[0m \u001b[0mweekly_stats\u001b[0m \u001b[0;34m=\u001b[0m \u001b[0;34m(\u001b[0m\u001b[0mpd\u001b[0m\u001b[0;34m.\u001b[0m\u001b[0mget_dummies\u001b[0m\u001b[0;34m(\u001b[0m\u001b[0mdf7\u001b[0m\u001b[0;34m)\u001b[0m\u001b[0;34m)\u001b[0m\u001b[0;34m.\u001b[0m\u001b[0mgroupby\u001b[0m\u001b[0;34m(\u001b[0m\u001b[0;34m'user_id'\u001b[0m\u001b[0;34m)\u001b[0m\u001b[0;34m.\u001b[0m\u001b[0msum\u001b[0m\u001b[0;34m(\u001b[0m\u001b[0;34m)\u001b[0m\u001b[0;34m\u001b[0m\u001b[0;34m\u001b[0m\u001b[0m\n",
            "\u001b[0;32m/usr/local/lib/python3.10/dist-packages/pandas/core/frame.py\u001b[0m in \u001b[0;36m__getitem__\u001b[0;34m(self, key)\u001b[0m\n\u001b[1;32m   3765\u001b[0m             \u001b[0;32mif\u001b[0m \u001b[0mis_iterator\u001b[0m\u001b[0;34m(\u001b[0m\u001b[0mkey\u001b[0m\u001b[0;34m)\u001b[0m\u001b[0;34m:\u001b[0m\u001b[0;34m\u001b[0m\u001b[0;34m\u001b[0m\u001b[0m\n\u001b[1;32m   3766\u001b[0m                 \u001b[0mkey\u001b[0m \u001b[0;34m=\u001b[0m \u001b[0mlist\u001b[0m\u001b[0;34m(\u001b[0m\u001b[0mkey\u001b[0m\u001b[0;34m)\u001b[0m\u001b[0;34m\u001b[0m\u001b[0;34m\u001b[0m\u001b[0m\n\u001b[0;32m-> 3767\u001b[0;31m             \u001b[0mindexer\u001b[0m \u001b[0;34m=\u001b[0m \u001b[0mself\u001b[0m\u001b[0;34m.\u001b[0m\u001b[0mcolumns\u001b[0m\u001b[0;34m.\u001b[0m\u001b[0m_get_indexer_strict\u001b[0m\u001b[0;34m(\u001b[0m\u001b[0mkey\u001b[0m\u001b[0;34m,\u001b[0m \u001b[0;34m\"columns\"\u001b[0m\u001b[0;34m)\u001b[0m\u001b[0;34m[\u001b[0m\u001b[0;36m1\u001b[0m\u001b[0;34m]\u001b[0m\u001b[0;34m\u001b[0m\u001b[0;34m\u001b[0m\u001b[0m\n\u001b[0m\u001b[1;32m   3768\u001b[0m \u001b[0;34m\u001b[0m\u001b[0m\n\u001b[1;32m   3769\u001b[0m         \u001b[0;31m# take() does not accept boolean indexers\u001b[0m\u001b[0;34m\u001b[0m\u001b[0;34m\u001b[0m\u001b[0m\n",
            "\u001b[0;32m/usr/local/lib/python3.10/dist-packages/pandas/core/indexes/base.py\u001b[0m in \u001b[0;36m_get_indexer_strict\u001b[0;34m(self, key, axis_name)\u001b[0m\n\u001b[1;32m   5875\u001b[0m             \u001b[0mkeyarr\u001b[0m\u001b[0;34m,\u001b[0m \u001b[0mindexer\u001b[0m\u001b[0;34m,\u001b[0m \u001b[0mnew_indexer\u001b[0m \u001b[0;34m=\u001b[0m \u001b[0mself\u001b[0m\u001b[0;34m.\u001b[0m\u001b[0m_reindex_non_unique\u001b[0m\u001b[0;34m(\u001b[0m\u001b[0mkeyarr\u001b[0m\u001b[0;34m)\u001b[0m\u001b[0;34m\u001b[0m\u001b[0;34m\u001b[0m\u001b[0m\n\u001b[1;32m   5876\u001b[0m \u001b[0;34m\u001b[0m\u001b[0m\n\u001b[0;32m-> 5877\u001b[0;31m         \u001b[0mself\u001b[0m\u001b[0;34m.\u001b[0m\u001b[0m_raise_if_missing\u001b[0m\u001b[0;34m(\u001b[0m\u001b[0mkeyarr\u001b[0m\u001b[0;34m,\u001b[0m \u001b[0mindexer\u001b[0m\u001b[0;34m,\u001b[0m \u001b[0maxis_name\u001b[0m\u001b[0;34m)\u001b[0m\u001b[0;34m\u001b[0m\u001b[0;34m\u001b[0m\u001b[0m\n\u001b[0m\u001b[1;32m   5878\u001b[0m \u001b[0;34m\u001b[0m\u001b[0m\n\u001b[1;32m   5879\u001b[0m         \u001b[0mkeyarr\u001b[0m \u001b[0;34m=\u001b[0m \u001b[0mself\u001b[0m\u001b[0;34m.\u001b[0m\u001b[0mtake\u001b[0m\u001b[0;34m(\u001b[0m\u001b[0mindexer\u001b[0m\u001b[0;34m)\u001b[0m\u001b[0;34m\u001b[0m\u001b[0;34m\u001b[0m\u001b[0m\n",
            "\u001b[0;32m/usr/local/lib/python3.10/dist-packages/pandas/core/indexes/base.py\u001b[0m in \u001b[0;36m_raise_if_missing\u001b[0;34m(self, key, indexer, axis_name)\u001b[0m\n\u001b[1;32m   5939\u001b[0m \u001b[0;34m\u001b[0m\u001b[0m\n\u001b[1;32m   5940\u001b[0m             \u001b[0mnot_found\u001b[0m \u001b[0;34m=\u001b[0m \u001b[0mlist\u001b[0m\u001b[0;34m(\u001b[0m\u001b[0mensure_index\u001b[0m\u001b[0;34m(\u001b[0m\u001b[0mkey\u001b[0m\u001b[0;34m)\u001b[0m\u001b[0;34m[\u001b[0m\u001b[0mmissing_mask\u001b[0m\u001b[0;34m.\u001b[0m\u001b[0mnonzero\u001b[0m\u001b[0;34m(\u001b[0m\u001b[0;34m)\u001b[0m\u001b[0;34m[\u001b[0m\u001b[0;36m0\u001b[0m\u001b[0;34m]\u001b[0m\u001b[0;34m]\u001b[0m\u001b[0;34m.\u001b[0m\u001b[0munique\u001b[0m\u001b[0;34m(\u001b[0m\u001b[0;34m)\u001b[0m\u001b[0;34m)\u001b[0m\u001b[0;34m\u001b[0m\u001b[0;34m\u001b[0m\u001b[0m\n\u001b[0;32m-> 5941\u001b[0;31m             \u001b[0;32mraise\u001b[0m \u001b[0mKeyError\u001b[0m\u001b[0;34m(\u001b[0m\u001b[0;34mf\"{not_found} not in index\"\u001b[0m\u001b[0;34m)\u001b[0m\u001b[0;34m\u001b[0m\u001b[0;34m\u001b[0m\u001b[0m\n\u001b[0m\u001b[1;32m   5942\u001b[0m \u001b[0;34m\u001b[0m\u001b[0m\n\u001b[1;32m   5943\u001b[0m     \u001b[0;34m@\u001b[0m\u001b[0moverload\u001b[0m\u001b[0;34m\u001b[0m\u001b[0;34m\u001b[0m\u001b[0m\n",
            "\u001b[0;31mKeyError\u001b[0m: \"['total_steps'] not in index\""
          ]
        }
      ]
    },
    {
      "cell_type": "code",
      "source": [
        "from sklearn.manifold import TSNE\n",
        "def create_tsne_plot(df):\n",
        "    \"\"\"\n",
        "    Creates a T-SNE plot based on responses to question 1.\n",
        "\n",
        "    Args:\n",
        "        df (pd.DataFrame): Input dataframe containing relevant columns.\n",
        "\n",
        "    Returns:\n",
        "        None (displays the plot)\n",
        "    \"\"\"\n",
        "    # Extract the responses to question 1\n",
        "    y_values = df['question_1']\n",
        "\n",
        "    # Initialize T-SNE with 2 target dimensions\n",
        "    tsne = TSNE(n_components=2, verbose=1, random_state=123)\n",
        "\n",
        "    # Fit and transform the data\n",
        "    z = tsne.fit_transform(df.drop(columns=['question_1']))\n",
        "\n",
        "    # Create a dataframe for visualization\n",
        "    df_tsne = pd.DataFrame()\n",
        "    df_tsne['y'] = y_values\n",
        "    df_tsne['comp-1'] = z[:, 0]\n",
        "    df_tsne['comp-2'] = z[:, 1]\n",
        "\n",
        "    # Create a scatter plot\n",
        "    plt.figure(figsize=(8, 6))\n",
        "    sns.scatterplot(x='comp-1', y='comp-2', hue=df_tsne['y'].tolist(), palette=sns.color_palette('hls', 3))\n",
        "    plt.title('T-SNE Projection of Responses to Question 1')\n",
        "    plt.xlabel('Component 1')\n",
        "    plt.ylabel('Component 2')\n",
        "    plt.legend(title='Question 1', loc='upper right')\n",
        "    plt.show()\n",
        "\n",
        "# Example usage:\n",
        "create_tsne_plot(df)  # Replace 'df' with your actual dataframe"
      ],
      "metadata": {
        "colab": {
          "base_uri": "https://localhost:8080/",
          "height": 321
        },
        "id": "AbwMs2WfM1qJ",
        "outputId": "670c6dc2-d4bb-482f-87be-db9b6845957a"
      },
      "execution_count": null,
      "outputs": [
        {
          "output_type": "error",
          "ename": "ValueError",
          "evalue": "could not convert string to float: 'she'",
          "traceback": [
            "\u001b[0;31m---------------------------------------------------------------------------\u001b[0m",
            "\u001b[0;31mValueError\u001b[0m                                Traceback (most recent call last)",
            "\u001b[0;32m<ipython-input-64-b516c9695015>\u001b[0m in \u001b[0;36m<cell line: 37>\u001b[0;34m()\u001b[0m\n\u001b[1;32m     35\u001b[0m \u001b[0;34m\u001b[0m\u001b[0m\n\u001b[1;32m     36\u001b[0m \u001b[0;31m# Example usage:\u001b[0m\u001b[0;34m\u001b[0m\u001b[0;34m\u001b[0m\u001b[0m\n\u001b[0;32m---> 37\u001b[0;31m \u001b[0mcreate_tsne_plot\u001b[0m\u001b[0;34m(\u001b[0m\u001b[0mdf\u001b[0m\u001b[0;34m)\u001b[0m  \u001b[0;31m# Replace 'df' with your actual dataframe\u001b[0m\u001b[0;34m\u001b[0m\u001b[0;34m\u001b[0m\u001b[0m\n\u001b[0m",
            "\u001b[0;32m<ipython-input-64-b516c9695015>\u001b[0m in \u001b[0;36mcreate_tsne_plot\u001b[0;34m(df)\u001b[0m\n\u001b[1;32m     17\u001b[0m \u001b[0;34m\u001b[0m\u001b[0m\n\u001b[1;32m     18\u001b[0m     \u001b[0;31m# Fit and transform the data\u001b[0m\u001b[0;34m\u001b[0m\u001b[0;34m\u001b[0m\u001b[0m\n\u001b[0;32m---> 19\u001b[0;31m     \u001b[0mz\u001b[0m \u001b[0;34m=\u001b[0m \u001b[0mtsne\u001b[0m\u001b[0;34m.\u001b[0m\u001b[0mfit_transform\u001b[0m\u001b[0;34m(\u001b[0m\u001b[0mdf\u001b[0m\u001b[0;34m.\u001b[0m\u001b[0mdrop\u001b[0m\u001b[0;34m(\u001b[0m\u001b[0mcolumns\u001b[0m\u001b[0;34m=\u001b[0m\u001b[0;34m[\u001b[0m\u001b[0;34m'question_1'\u001b[0m\u001b[0;34m]\u001b[0m\u001b[0;34m)\u001b[0m\u001b[0;34m)\u001b[0m\u001b[0;34m\u001b[0m\u001b[0;34m\u001b[0m\u001b[0m\n\u001b[0m\u001b[1;32m     20\u001b[0m \u001b[0;34m\u001b[0m\u001b[0m\n\u001b[1;32m     21\u001b[0m     \u001b[0;31m# Create a dataframe for visualization\u001b[0m\u001b[0;34m\u001b[0m\u001b[0;34m\u001b[0m\u001b[0m\n",
            "\u001b[0;32m/usr/local/lib/python3.10/dist-packages/sklearn/manifold/_t_sne.py\u001b[0m in \u001b[0;36mfit_transform\u001b[0;34m(self, X, y)\u001b[0m\n\u001b[1;32m   1117\u001b[0m         \u001b[0mself\u001b[0m\u001b[0;34m.\u001b[0m\u001b[0m_validate_params\u001b[0m\u001b[0;34m(\u001b[0m\u001b[0;34m)\u001b[0m\u001b[0;34m\u001b[0m\u001b[0;34m\u001b[0m\u001b[0m\n\u001b[1;32m   1118\u001b[0m         \u001b[0mself\u001b[0m\u001b[0;34m.\u001b[0m\u001b[0m_check_params_vs_input\u001b[0m\u001b[0;34m(\u001b[0m\u001b[0mX\u001b[0m\u001b[0;34m)\u001b[0m\u001b[0;34m\u001b[0m\u001b[0;34m\u001b[0m\u001b[0m\n\u001b[0;32m-> 1119\u001b[0;31m         \u001b[0membedding\u001b[0m \u001b[0;34m=\u001b[0m \u001b[0mself\u001b[0m\u001b[0;34m.\u001b[0m\u001b[0m_fit\u001b[0m\u001b[0;34m(\u001b[0m\u001b[0mX\u001b[0m\u001b[0;34m)\u001b[0m\u001b[0;34m\u001b[0m\u001b[0;34m\u001b[0m\u001b[0m\n\u001b[0m\u001b[1;32m   1120\u001b[0m         \u001b[0mself\u001b[0m\u001b[0;34m.\u001b[0m\u001b[0membedding_\u001b[0m \u001b[0;34m=\u001b[0m \u001b[0membedding\u001b[0m\u001b[0;34m\u001b[0m\u001b[0;34m\u001b[0m\u001b[0m\n\u001b[1;32m   1121\u001b[0m         \u001b[0;32mreturn\u001b[0m \u001b[0mself\u001b[0m\u001b[0;34m.\u001b[0m\u001b[0membedding_\u001b[0m\u001b[0;34m\u001b[0m\u001b[0;34m\u001b[0m\u001b[0m\n",
            "\u001b[0;32m/usr/local/lib/python3.10/dist-packages/sklearn/manifold/_t_sne.py\u001b[0m in \u001b[0;36m_fit\u001b[0;34m(self, X, skip_num_points)\u001b[0m\n\u001b[1;32m    852\u001b[0m \u001b[0;34m\u001b[0m\u001b[0m\n\u001b[1;32m    853\u001b[0m         \u001b[0;32mif\u001b[0m \u001b[0mself\u001b[0m\u001b[0;34m.\u001b[0m\u001b[0mmethod\u001b[0m \u001b[0;34m==\u001b[0m \u001b[0;34m\"barnes_hut\"\u001b[0m\u001b[0;34m:\u001b[0m\u001b[0;34m\u001b[0m\u001b[0;34m\u001b[0m\u001b[0m\n\u001b[0;32m--> 854\u001b[0;31m             X = self._validate_data(\n\u001b[0m\u001b[1;32m    855\u001b[0m                 \u001b[0mX\u001b[0m\u001b[0;34m,\u001b[0m\u001b[0;34m\u001b[0m\u001b[0;34m\u001b[0m\u001b[0m\n\u001b[1;32m    856\u001b[0m                 \u001b[0maccept_sparse\u001b[0m\u001b[0;34m=\u001b[0m\u001b[0;34m[\u001b[0m\u001b[0;34m\"csr\"\u001b[0m\u001b[0;34m]\u001b[0m\u001b[0;34m,\u001b[0m\u001b[0;34m\u001b[0m\u001b[0;34m\u001b[0m\u001b[0m\n",
            "\u001b[0;32m/usr/local/lib/python3.10/dist-packages/sklearn/base.py\u001b[0m in \u001b[0;36m_validate_data\u001b[0;34m(self, X, y, reset, validate_separately, **check_params)\u001b[0m\n\u001b[1;32m    563\u001b[0m             \u001b[0;32mraise\u001b[0m \u001b[0mValueError\u001b[0m\u001b[0;34m(\u001b[0m\u001b[0;34m\"Validation should be done on X, y or both.\"\u001b[0m\u001b[0;34m)\u001b[0m\u001b[0;34m\u001b[0m\u001b[0;34m\u001b[0m\u001b[0m\n\u001b[1;32m    564\u001b[0m         \u001b[0;32melif\u001b[0m \u001b[0;32mnot\u001b[0m \u001b[0mno_val_X\u001b[0m \u001b[0;32mand\u001b[0m \u001b[0mno_val_y\u001b[0m\u001b[0;34m:\u001b[0m\u001b[0;34m\u001b[0m\u001b[0;34m\u001b[0m\u001b[0m\n\u001b[0;32m--> 565\u001b[0;31m             \u001b[0mX\u001b[0m \u001b[0;34m=\u001b[0m \u001b[0mcheck_array\u001b[0m\u001b[0;34m(\u001b[0m\u001b[0mX\u001b[0m\u001b[0;34m,\u001b[0m \u001b[0minput_name\u001b[0m\u001b[0;34m=\u001b[0m\u001b[0;34m\"X\"\u001b[0m\u001b[0;34m,\u001b[0m \u001b[0;34m**\u001b[0m\u001b[0mcheck_params\u001b[0m\u001b[0;34m)\u001b[0m\u001b[0;34m\u001b[0m\u001b[0;34m\u001b[0m\u001b[0m\n\u001b[0m\u001b[1;32m    566\u001b[0m             \u001b[0mout\u001b[0m \u001b[0;34m=\u001b[0m \u001b[0mX\u001b[0m\u001b[0;34m\u001b[0m\u001b[0;34m\u001b[0m\u001b[0m\n\u001b[1;32m    567\u001b[0m         \u001b[0;32melif\u001b[0m \u001b[0mno_val_X\u001b[0m \u001b[0;32mand\u001b[0m \u001b[0;32mnot\u001b[0m \u001b[0mno_val_y\u001b[0m\u001b[0;34m:\u001b[0m\u001b[0;34m\u001b[0m\u001b[0;34m\u001b[0m\u001b[0m\n",
            "\u001b[0;32m/usr/local/lib/python3.10/dist-packages/sklearn/utils/validation.py\u001b[0m in \u001b[0;36mcheck_array\u001b[0;34m(array, accept_sparse, accept_large_sparse, dtype, order, copy, force_all_finite, ensure_2d, allow_nd, ensure_min_samples, ensure_min_features, estimator, input_name)\u001b[0m\n\u001b[1;32m    877\u001b[0m                     \u001b[0marray\u001b[0m \u001b[0;34m=\u001b[0m \u001b[0mxp\u001b[0m\u001b[0;34m.\u001b[0m\u001b[0mastype\u001b[0m\u001b[0;34m(\u001b[0m\u001b[0marray\u001b[0m\u001b[0;34m,\u001b[0m \u001b[0mdtype\u001b[0m\u001b[0;34m,\u001b[0m \u001b[0mcopy\u001b[0m\u001b[0;34m=\u001b[0m\u001b[0;32mFalse\u001b[0m\u001b[0;34m)\u001b[0m\u001b[0;34m\u001b[0m\u001b[0;34m\u001b[0m\u001b[0m\n\u001b[1;32m    878\u001b[0m                 \u001b[0;32melse\u001b[0m\u001b[0;34m:\u001b[0m\u001b[0;34m\u001b[0m\u001b[0;34m\u001b[0m\u001b[0m\n\u001b[0;32m--> 879\u001b[0;31m                     \u001b[0marray\u001b[0m \u001b[0;34m=\u001b[0m \u001b[0m_asarray_with_order\u001b[0m\u001b[0;34m(\u001b[0m\u001b[0marray\u001b[0m\u001b[0;34m,\u001b[0m \u001b[0morder\u001b[0m\u001b[0;34m=\u001b[0m\u001b[0morder\u001b[0m\u001b[0;34m,\u001b[0m \u001b[0mdtype\u001b[0m\u001b[0;34m=\u001b[0m\u001b[0mdtype\u001b[0m\u001b[0;34m,\u001b[0m \u001b[0mxp\u001b[0m\u001b[0;34m=\u001b[0m\u001b[0mxp\u001b[0m\u001b[0;34m)\u001b[0m\u001b[0;34m\u001b[0m\u001b[0;34m\u001b[0m\u001b[0m\n\u001b[0m\u001b[1;32m    880\u001b[0m             \u001b[0;32mexcept\u001b[0m \u001b[0mComplexWarning\u001b[0m \u001b[0;32mas\u001b[0m \u001b[0mcomplex_warning\u001b[0m\u001b[0;34m:\u001b[0m\u001b[0;34m\u001b[0m\u001b[0;34m\u001b[0m\u001b[0m\n\u001b[1;32m    881\u001b[0m                 raise ValueError(\n",
            "\u001b[0;32m/usr/local/lib/python3.10/dist-packages/sklearn/utils/_array_api.py\u001b[0m in \u001b[0;36m_asarray_with_order\u001b[0;34m(array, dtype, order, copy, xp)\u001b[0m\n\u001b[1;32m    183\u001b[0m     \u001b[0;32mif\u001b[0m \u001b[0mxp\u001b[0m\u001b[0;34m.\u001b[0m\u001b[0m__name__\u001b[0m \u001b[0;32min\u001b[0m \u001b[0;34m{\u001b[0m\u001b[0;34m\"numpy\"\u001b[0m\u001b[0;34m,\u001b[0m \u001b[0;34m\"numpy.array_api\"\u001b[0m\u001b[0;34m}\u001b[0m\u001b[0;34m:\u001b[0m\u001b[0;34m\u001b[0m\u001b[0;34m\u001b[0m\u001b[0m\n\u001b[1;32m    184\u001b[0m         \u001b[0;31m# Use NumPy API to support order\u001b[0m\u001b[0;34m\u001b[0m\u001b[0;34m\u001b[0m\u001b[0m\n\u001b[0;32m--> 185\u001b[0;31m         \u001b[0marray\u001b[0m \u001b[0;34m=\u001b[0m \u001b[0mnumpy\u001b[0m\u001b[0;34m.\u001b[0m\u001b[0masarray\u001b[0m\u001b[0;34m(\u001b[0m\u001b[0marray\u001b[0m\u001b[0;34m,\u001b[0m \u001b[0morder\u001b[0m\u001b[0;34m=\u001b[0m\u001b[0morder\u001b[0m\u001b[0;34m,\u001b[0m \u001b[0mdtype\u001b[0m\u001b[0;34m=\u001b[0m\u001b[0mdtype\u001b[0m\u001b[0;34m)\u001b[0m\u001b[0;34m\u001b[0m\u001b[0;34m\u001b[0m\u001b[0m\n\u001b[0m\u001b[1;32m    186\u001b[0m         \u001b[0;32mreturn\u001b[0m \u001b[0mxp\u001b[0m\u001b[0;34m.\u001b[0m\u001b[0masarray\u001b[0m\u001b[0;34m(\u001b[0m\u001b[0marray\u001b[0m\u001b[0;34m,\u001b[0m \u001b[0mcopy\u001b[0m\u001b[0;34m=\u001b[0m\u001b[0mcopy\u001b[0m\u001b[0;34m)\u001b[0m\u001b[0;34m\u001b[0m\u001b[0;34m\u001b[0m\u001b[0m\n\u001b[1;32m    187\u001b[0m     \u001b[0;32melse\u001b[0m\u001b[0;34m:\u001b[0m\u001b[0;34m\u001b[0m\u001b[0;34m\u001b[0m\u001b[0m\n",
            "\u001b[0;32m/usr/local/lib/python3.10/dist-packages/pandas/core/generic.py\u001b[0m in \u001b[0;36m__array__\u001b[0;34m(self, dtype)\u001b[0m\n\u001b[1;32m   1996\u001b[0m     \u001b[0;32mdef\u001b[0m \u001b[0m__array__\u001b[0m\u001b[0;34m(\u001b[0m\u001b[0mself\u001b[0m\u001b[0;34m,\u001b[0m \u001b[0mdtype\u001b[0m\u001b[0;34m:\u001b[0m \u001b[0mnpt\u001b[0m\u001b[0;34m.\u001b[0m\u001b[0mDTypeLike\u001b[0m \u001b[0;34m|\u001b[0m \u001b[0;32mNone\u001b[0m \u001b[0;34m=\u001b[0m \u001b[0;32mNone\u001b[0m\u001b[0;34m)\u001b[0m \u001b[0;34m->\u001b[0m \u001b[0mnp\u001b[0m\u001b[0;34m.\u001b[0m\u001b[0mndarray\u001b[0m\u001b[0;34m:\u001b[0m\u001b[0;34m\u001b[0m\u001b[0;34m\u001b[0m\u001b[0m\n\u001b[1;32m   1997\u001b[0m         \u001b[0mvalues\u001b[0m \u001b[0;34m=\u001b[0m \u001b[0mself\u001b[0m\u001b[0;34m.\u001b[0m\u001b[0m_values\u001b[0m\u001b[0;34m\u001b[0m\u001b[0;34m\u001b[0m\u001b[0m\n\u001b[0;32m-> 1998\u001b[0;31m         \u001b[0marr\u001b[0m \u001b[0;34m=\u001b[0m \u001b[0mnp\u001b[0m\u001b[0;34m.\u001b[0m\u001b[0masarray\u001b[0m\u001b[0;34m(\u001b[0m\u001b[0mvalues\u001b[0m\u001b[0;34m,\u001b[0m \u001b[0mdtype\u001b[0m\u001b[0;34m=\u001b[0m\u001b[0mdtype\u001b[0m\u001b[0;34m)\u001b[0m\u001b[0;34m\u001b[0m\u001b[0;34m\u001b[0m\u001b[0m\n\u001b[0m\u001b[1;32m   1999\u001b[0m         if (\n\u001b[1;32m   2000\u001b[0m             \u001b[0mastype_is_view\u001b[0m\u001b[0;34m(\u001b[0m\u001b[0mvalues\u001b[0m\u001b[0;34m.\u001b[0m\u001b[0mdtype\u001b[0m\u001b[0;34m,\u001b[0m \u001b[0marr\u001b[0m\u001b[0;34m.\u001b[0m\u001b[0mdtype\u001b[0m\u001b[0;34m)\u001b[0m\u001b[0;34m\u001b[0m\u001b[0;34m\u001b[0m\u001b[0m\n",
            "\u001b[0;31mValueError\u001b[0m: could not convert string to float: 'she'"
          ]
        }
      ]
    },
    {
      "cell_type": "code",
      "source": [],
      "metadata": {
        "id": "bS7rbq9lNgH9"
      },
      "execution_count": null,
      "outputs": []
    }
  ]
}